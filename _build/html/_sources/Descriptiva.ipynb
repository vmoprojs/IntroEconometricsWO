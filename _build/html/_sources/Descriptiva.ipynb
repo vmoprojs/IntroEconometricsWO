{
 "cells": [
  {
   "cell_type": "markdown",
   "metadata": {},
   "source": [
    "# Estadística"
   ]
  },
  {
   "cell_type": "markdown",
   "metadata": {},
   "source": [
    "**¿Qué relación tienen Charles Darwin, Francis Galton y Karl Pearson?**"
   ]
  },
  {
   "cell_type": "markdown",
   "metadata": {},
   "source": [
    "\n",
    "<table><tr>\n",
    "<td> \n",
    "  <p align=\"center\" style=\"padding: 10px\">\n",
    "    <img alt=\"Forwarding\" src=\"images/Darwin.jpeg\" width=\"300\">\n",
    "    <br>\n",
    "    <em style=\"color: grey\">Darwin</em>\n",
    "  </p> \n",
    "</td>\n",
    "<td> \n",
    "  <p align=\"center\">\n",
    "    <img alt=\"Routing\" src=\"images/galton.jpg\" width=\"300\">\n",
    "    <br>\n",
    "    <em style=\"color: grey\">Galton</em>\n",
    "  </p> \n",
    "</td>\n",
    "<td> \n",
    "  <p align=\"center\">\n",
    "    <img alt=\"Routing\" src=\"images/Karl_Pearson.jpg\" width=\"300\">\n",
    "    <br>\n",
    "    <em style=\"color: grey\">Pearson</em>\n",
    "  </p> \n",
    "</td>\n",
    "</tr></table>\n"
   ]
  },
  {
   "cell_type": "markdown",
   "metadata": {},
   "source": [
    "Charles Darwin (1809-1882), Fracis Galton (1822-1911), Karl Pearson (1857-1936)\n",
    "</div>\n",
    "\n",
    "-   Galton nace en Birmingham (Inglaterra). Viaja por el mundo realizando estudios en geografía y en 1850 se le otorga la medalla de oro de la *Royal Geographical Society*.\n",
    "\n",
    "-   Influenciado por su primo, Charles Darwin, dedica la segunda parte de su vida a probar la teoría de la evolución\n",
    "\n",
    "-   Detectó que padres de estatura pequeña tenían hijos ligeramente más altos y que padres altos tenían hijos ligeramente más bajos. De ahí la palabra *regresión* (@gorroochurn2016classic).\n",
    "\n",
    "## ¿Qué es la estadística?\n",
    "\n",
    "-   El siglo XIX es el punto de encuentro entre dos disciplinas que evolucionaron independientemente: el cálculo de probabilidades o teoría matemática de los juegos de azar (derivada del vocablo árabe *al zhar*, que signigica *dado*), que nace en el siglo XVII y la Estadística (o ciencia del Estado, del latín *Status*). \n",
    "\n",
    "> La Estadística es la ciencia cuyo objetivo es reunir una información cuantitativa concerniente a individuos, grupos, series de hechos, etc. y deducir de ello, gracias al análisis de estos datos, unos significados precisos o unas previsiones para el futuro (@galindo2015estadistica)\n",
    "\n",
    "### Clasificación\n",
    "\n",
    "\n",
    "-   La Estadística Descriptiva o *Análisis Exporatorio de Datos*, resume y describe datos a través de la presentación de información en forma de tablas y gráficos.\n",
    "\n",
    "-   La Estadística Inferencial: va más allá de los datos. Trata, **a partir de una muestra**, determinar características de una población objetivo de investigación.\n",
    "\n",
    "\n",
    "### Definiciones básicas\n",
    "\n",
    "> Unidad muestral o experimental: Una unidad es una persona, animal, planta o cosa que es examinada por un investigador; es el objeto básico sobre el cual el estudio o experimento se lleva a cabo.\n",
    "\n",
    "> Población o universo: Es una colección completa de personas, animales, plantas o cosas, con el objeto de obtener conclusiones sobre la población de la cual proviene.\n",
    "\n",
    "> Muestra: Es un grupo de unidades seleccionadas de la población de acuerdo con un plan o regla, con el objeto de obtener conlusiones sobre la población de la cual proviene. \n",
    "\n",
    "> Tamaño muestral: número de unidades que constituyen la muestra.\n",
    "\n",
    "### Ejemplos (¿Cuál es la población? ¿Cuál es la unidad muestral?): \n",
    "\n",
    "-   La dueña de un almacén desea estimar el gasto medio de compra de sus clientes en su almacén en el último año.\n",
    "\n",
    "<!-- Población: facturas del período indicado -->\n",
    "\n",
    "<!-- Unidad: facturas -->\n",
    "\n",
    "-   En un estudio se desea conocer el *rating* de sintonía de los canales de televisión de una ciudad. \n",
    "\n",
    "<!-- Población: Hogares que poseen televisor -->\n",
    "\n",
    "<!-- Unidad: Hogares de 40 manzanas de la ciudad -->\n",
    "\n",
    "### Datos y escalas de medición\n",
    "\n",
    "\n",
    "#### Números índice\n",
    "\n",
    "1. Simple\n",
    "\n",
    "$$\n",
    "I_{0}^{t}(X) = \\frac{X_t}{X_0}100\n",
    "$$\n",
    "\n",
    "2. En cadena\n",
    "\n",
    "$$\n",
    "IC^{t}(X) = \\frac{X_t}{X_{t-1}}100\n",
    "$$\n",
    "\n",
    "3. Tasa de variación\n",
    "\n",
    "$$\n",
    "Tasa_{t_1}^{t_2}(X) = \\frac{X_{t_2}-X_{t_1}}{X_{t_1}}\n",
    "$$\n",
    "\n",
    "4. Tasa media de variación (entre $[t,t+k]$)\n",
    "\n",
    "$$\n",
    "T_k = \\left(\\sqrt[k]{\\frac{X_{t+k}}{X_t}-1}\\right)100\n",
    "$$\n",
    "\n",
    "### Tipos de variables\n",
    "\n",
    "> Variable estadística: Es una característica de los individuos que puede ser observada o medida.\n",
    "\n",
    "¿Qué es un *dato*? medición o valor de una variable estadística.\n",
    "\n",
    "-   Cualitativas (descriptivas o categóricas): comprenden etiquetas o nombres que se usan para identificar un atributo de cada elemento. Ejemplos: sexo, profesión, marca de ropa.\n",
    "\n",
    "-   Cuantitativas (numéricas): Describen características medibles. Ejemplos: número de hijos, número de páginas de un libro.\n",
    "      \n",
    "      -   Discretas: son discretas si sus valores pueden ser contados (pertenecen a los números enteros). Ejemplo:  clientes que entran a un almacén, número de errores ortográficos.\n",
    "      \n",
    "      -   Continuas: sus valores pueden tomar cualquier valor en un intervalo considerado (pertenecen a los números reales). Ejemplos: edad, perso, talla. \n",
    "      \n",
    "### Escalas de medición\n",
    "\n",
    "La medición es el proceso de asignar un valor a una variable de un elemento de observación. Este proceso usa diferentes escalas:\n",
    "\n",
    "-   Nominal: a los datos se les puede asignar un código, en la forma de un número, donde los números son simplemente una etiqueta. Únicamente pueden ser contados, **no pueden ser ordenados ni medidos**. Ejemplo: sexo, estado civil. \n",
    "\n",
    "-   Ordinal: si a los datos se les puede asociar un orden o asociar una escala. **Pueden ser contados y ordenados, pero no pueden ser medidos**. Ejemplo: escalas de películas, del 1 al 5.\n",
    "\n",
    "-   Intervalo: si los datos pueden tomar cualquier valor dentro de un intervalo finito o infinito, existe un *cero relativo*. **Pueden ser contados y ordenados; son válidas la suma y la resta, la multiplicación y la división**. Ejemplos: temperatura (cero no significa ausencia de temperatura). Puntajes en pruebas (cero no significa que no sabe nada).\n",
    "\n",
    "-   Razón: si los datos pueden tomar cualquier valor dentro de un intervalo finito o infinito, existe un *cero absoluto*. **Pueden ser contados y ordenados; son válidas la suma, resta, multiplicación y división**. Ejemplos: estatura, velocidad, edad. \n",
    "\n",
    "\n",
    "### Valores atípicos\n",
    "\n",
    "\n",
    "También conocidos como inusuales, extremos o *outliers*, es una observación que es lejana, en valor, del resto de datos. \n",
    "\n",
    "No se los debe eliminar sin justificación previa, ¿por qué?\n",
    "\n",
    "## Características de los datos\n",
    "\n",
    "-   Localización: es la posición relativa que presentan un conjunto de datos. En general, se mide por el punto medio del conjunto de datos. \n",
    "\n",
    "-   Dispersión: Los valores obtenidos en una muestra no son todos iguales. La variación entre estos valores se denomina *dispersión*. Se trata de detectar el grado de discrepancia entre los datos individuales al rededor del centro de las observaciones. \n",
    "\n",
    "-   Simetría y asimetría: Son simétricos cuando los datos están distribuidos de la misma manera sobre y debajo del punto medio. En los asimétricos hay más agrupamiento de un lado del punto medio. \n",
    "\n",
    "## Distribución de frecuencias\n",
    "\n",
    "> Es la agrupación de datos en categorías mutuamente excluyentes que indican el número de observaciones en cada categoría. Esto proporciona un valor añadido a la agrupación de datos. La distribución de frecuencias presenta las observaciones clasificadas de modo que se pueda ver el número existente en cada clase.\n",
    "\n",
    "Se puede elaborar una tabla de frecuencias para datos nominales y ordinales. Si los datos son continuos, ¿Qué debemos hacer?\n",
    "\n",
    "### Elaboración de una tabla de frecuencias\n",
    "\n",
    "Supongamos que tenemos un conjunto de $n$ datos, que toman $k$ valores distintos: $x_1,x_2,,\\ldots,x_k$.\n",
    "\n",
    "1. Se ordena los $x_i$ datos en una columna de forma ascendente y se cuenta cuántas veces aparece cada valor, ésta es su *frecuencia absoluta* $n_i$ que se coloca en una columna contigua. Note que $\\sum_{i=1}^{k}n_i=n$.\n",
    "\n",
    "2. Una tercera columna tiene la *frecuencia relativa* $f$ que resulta de $f_i = \\frac{n_i}{n}$. Note que verse como un porcentaje.\n",
    "\n",
    "3. Se pueden agregar dos columnas más, de las frecuencias acumuladas absoluta y relativa respectivamente.\n",
    "\n",
    "Es decir:\n",
    "\n",
    "| Valor de la variable ($x_i$) | Frec. Absoluta ($n_i$) | Frec. Relativa ($f_i = \\frac{n_i}{n}$) | Fre. Abs. Acumulada ($N_i$) | Frec. Rel. Acumulada ($F_i$) |\n",
    "|-------------|-------------|-------------|-------------|-------------|\n",
    "| $x_1$ | $n_1$ | $f_1$ | $N_1 = n_1$ | $F_1=f_1$ |\n",
    "| $x_2$ | $n_2$ | $f_2$ | $N_2 = N_1+n_2$ | $F_2 = F_1+f_2$ |\n",
    "| $\\vdots$ | $\\vdots$ | $\\vdots$ | $\\vdots$ | $\\vdots$ |\n",
    "| $x_k$ | $n_k$ | $f_k$ | $N_k = N_{k-1}+n_k$ | $F_k = F_{k-1}+f_k$ |\n",
    "| TOTAL |  |  | n | 1 |\n",
    "\n",
    "\n",
    "**Ejemplo para variable discreta y continua**\n"
   ]
  },
  {
   "cell_type": "markdown",
   "metadata": {},
   "source": [
    "## Medidas de locación\n",
    "\n",
    "Ante un conjunto de observaciones, es de interés el valor en torno al cual se agrupan la mayoría o el centro del conjunto. Las medidas que permiten hacerlo se llaman *medidas de localización* o *medidas de tendencia central*.\n",
    "\n",
    "### Media\n",
    "\n",
    "> Promedio o media: notado como $\\bar{x}$, de un conjunto de $n$ datos $x_1,x_2,\\ldots,x_n$ es igual a la suma de valores dividido para $n$.\n",
    "\n",
    "$$\n",
    "\\bar{x} = \\frac{x_1+x_2+\\ldots+x_n}{n}=\\frac{\\sum_{i=1}^nx_i}{n}\n",
    "$$\n",
    "\n",
    "-   Si las observaciones están agrupadas en una tabla de frecuencia de datos individuales de $k$ valores, el promedio se calcula\n",
    "\n",
    "$$\n",
    "\\bar{x} =\\frac{\\sum_{i=1}^kn_ix_i}{n}\n",
    "$$\n",
    "donde $n = {\\sum_{i=1}^kn_i}$.\n",
    "\n",
    "\n",
    "-   Si las observaciones están agrupadas en una tabla de frecuencias agrupadas por clases, se calcula el punto promedio de cada clase $x_i = \\frac{l_i+s_i}{2}$ ($i = 1,2,\\ldots,k$), donde $l_i$ y $s_i$ son la cota inferior y superor de cada clase respectivamente. El promedio es\n",
    "\n",
    "$$\n",
    "\\bar{x} =\\frac{\\sum_{i=1}^kn_ix_i}{n}\n",
    "$$\n",
    "\n",
    "Ventajas y desventajas del promedio:\n",
    "\n",
    "-   Se expresan en las mismas unidades quela variable\n",
    "-   En su cálculo intervienen todos los valores de la distribución\n",
    "-   Es el centro de gravedad de toda la distribución\n",
    "-   Es único\n",
    "-   Su principal inconveniente es que se ve afectado por valores atípicos"
   ]
  },
  {
   "cell_type": "markdown",
   "metadata": {},
   "source": [
    "Es fácil calcular estadísticos de resumen en `python`. \n",
    "\n",
    "Creamos 100 números aleatorios con distribución normal:"
   ]
  },
  {
   "cell_type": "code",
   "execution_count": 113,
   "metadata": {},
   "outputs": [],
   "source": [
    "import numpy as np\n",
    "N = 100\n",
    "np.random.seed(0)\n",
    "x = np.random.normal(loc = 57, scale = 3, size = N)"
   ]
  },
  {
   "cell_type": "code",
   "execution_count": 114,
   "metadata": {},
   "outputs": [
    {
     "data": {
      "text/plain": [
       "57.17942404660345"
      ]
     },
     "execution_count": 114,
     "metadata": {},
     "output_type": "execute_result"
    }
   ],
   "source": [
    "np.mean(x)"
   ]
  },
  {
   "cell_type": "markdown",
   "metadata": {},
   "source": [
    "### Mediana\n",
    "\n",
    "\n",
    "> La mediana de un conjunto de datos $x_1+x_2+\\ldots+x_n$ es el valor que se encuentra en el punto medio, cuando se ordenan los valores de menor a mayor.\n",
    "\n",
    "Se nota como $Q_2$ o *Med* y tiene la propiedad de que a cada lado se encuentra el 50% de los datos.\n",
    "\n",
    "Si los datos están están resumidos en una tabla de distribución de frecuencias por clases:\n",
    "\n",
    "$$\n",
    "Med = L_{i-1}+\\frac{n/2-N_{i-1}}{n_i}A\n",
    "$$\n",
    "\n",
    "\n",
    "Ejemplo: \n",
    "\n",
    "\n",
    "| Ingreso anual | Numero de personas ($n_i$) | Frecuencia acumulada ($N_i$) |\n",
    "|---------------|--------------------|----------------------|\n",
    "| 6800-8000     | 3                  | 3                    |\n",
    "| 8000-10400    | 20                 | 23                   |\n",
    "| 10400-12800   | 35                 | 58                   |\n",
    "| 12800-16500   | 25                 | 83                   |\n",
    "| 16500-20000   | 15                 | 98                   |\n",
    "| 20000-26000   | 2                  | 100                  |\n",
    "\n",
    "\n",
    "$$\n",
    "Med = 10400+\\frac{100/2-23}{35}(2400) = 12251\n",
    "$$\n"
   ]
  },
  {
   "cell_type": "code",
   "execution_count": 115,
   "metadata": {},
   "outputs": [
    {
     "data": {
      "text/plain": [
       "57.28228835831399"
      ]
     },
     "execution_count": 115,
     "metadata": {},
     "output_type": "execute_result"
    }
   ],
   "source": [
    "np.median(x)"
   ]
  },
  {
   "cell_type": "markdown",
   "metadata": {},
   "source": [
    "### Moda\n",
    "\n",
    "\n",
    "> Es el valor que tiene la mayor frecuencia absoluta\n",
    "\n",
    "Se la nota como *Mo*. Para calcularla es últil realizar una tabla de frecuencia de los datos. \n",
    "\n",
    "Si los datos están están resumidos en una tabla de distribución de frecuencias por clases:\n",
    "\n",
    "$$\n",
    "Mo = L_{i-1}+\\frac{d1}{d1+d2}A\n",
    "$$\n",
    "\n",
    "Usando los datos de la tabla anterior:\n",
    "\n",
    "$$\n",
    "Mo = 10400+\\frac{35-20}{(35-20)+(35-25)}2400=11840\n",
    "$$\n"
   ]
  },
  {
   "cell_type": "code",
   "execution_count": 116,
   "metadata": {},
   "outputs": [
    {
     "data": {
      "text/plain": [
       "ModeResult(mode=4, count=3)"
      ]
     },
     "execution_count": 116,
     "metadata": {},
     "output_type": "execute_result"
    }
   ],
   "source": [
    "from scipy import stats\n",
    "data = [1,3,4,4,7,4]\n",
    "stats.mode(data,keepdims=False)"
   ]
  },
  {
   "cell_type": "markdown",
   "metadata": {},
   "source": [
    "### Media geométrica\n",
    "\n",
    "> Notada como $\\bar{MG}$ de un conjunto de $n$ mediciones $x_1+x_2+\\ldots+x_n$, es igual a la raíz enésima de su producto. Es decir,\n",
    "\n",
    "$$\n",
    "\\bar{MG} = (x_1\\times x_2\\times\\ldots\\times x_n)^{1/n}\n",
    "$$\n",
    "\n",
    "Si las observaciones están agrupadas en una tabla de frecuencias de datos individuales,\n",
    "\n",
    "$$\n",
    "\\bar{MG} = (x_1^{n_1}\\times x_2^{n_2}\\times\\ldots\\times x_k^{n_k})^{1/n}\n",
    "$$\n",
    "\n",
    "Si los datos están agrupados por clases, el cáculo es el mismo anterior, pero $x_i$ es el punto medio de la clase. \n",
    "\n",
    "Tiene las mismas ventajas de la media, pero\n",
    "\n",
    "-   Es menos sensible a datos atípicos\n",
    "-   Solo se puede calcular cuando hay datos positivos\n",
    "-   Se recomienda su uso cuando la variable presenta variacionas acumuladas: porcentajes, tasas de variación.\n"
   ]
  },
  {
   "cell_type": "code",
   "execution_count": 117,
   "metadata": {},
   "outputs": [
    {
     "data": {
      "text/plain": [
       "57.099253282727005"
      ]
     },
     "execution_count": 117,
     "metadata": {},
     "output_type": "execute_result"
    }
   ],
   "source": [
    "from scipy.stats import gmean\n",
    "gmean(x)"
   ]
  },
  {
   "cell_type": "markdown",
   "metadata": {},
   "source": [
    "### Cuantiles\n",
    "\n",
    "> Un cuantil divide la distribución de los datos en una proporción específica, el cuantil es el dato que corresponde a dicha división.\n",
    "\n",
    "El cuantil de orden $p$ de una distribución (con $0 < p < 1$) es el valor de la variable  $x_{p}$ que marca un corte de modo que una proporción $p$ de valores de la población es menor o igual que $x_{p}$. Por ejemplo, el cuantil de orden $0.36$ dejaría un 36% de valores por debajo y el cuantil de orden $0.50$ se corresponde con la mediana de la distribución.\n",
    "\n",
    "\n",
    "\n",
    "Los cuantiles suelen usarse por grupos que dividen la distribución en partes iguales; entendidas estas como intervalos que comprenden la misma proporción de valores. Los más usados son:\n",
    "\n",
    "-   Los cuartiles, que dividen a la distribución en cuatro partes (corresponden a los cuantiles $0.25$; $0.50$ y $0.75$);\n",
    "-   Los quintiles, que dividen a la distribución en cinco partes (corresponden a los cuantiles $0.20$; $0.40$; $0.60$ y $0.80$);\n",
    "-   Los deciles, que dividen a la distribución en diez partes;\n",
    "-   Los percentiles, que dividen a la distribución en cien partes.\n"
   ]
  },
  {
   "cell_type": "code",
   "execution_count": 118,
   "metadata": {},
   "outputs": [
    {
     "data": {
      "text/plain": [
       "array([55.03410543, 57.28228836, 59.23998451])"
      ]
     },
     "execution_count": 118,
     "metadata": {},
     "output_type": "execute_result"
    }
   ],
   "source": [
    "from scipy import stats\n",
    "\n",
    "#https://docs.scipy.org/doc/scipy/reference/stats.html\n",
    "stats.mstats.mquantiles(x)"
   ]
  },
  {
   "cell_type": "code",
   "execution_count": 119,
   "metadata": {},
   "outputs": [
    {
     "data": {
      "text/plain": [
       "array([49.34103055, 53.26425554, 54.40965441, 55.73393544, 56.41040836,\n",
       "       57.28228836, 57.97134944, 58.36223852, 59.89487029, 61.44095087,\n",
       "       63.80926387])"
      ]
     },
     "execution_count": 119,
     "metadata": {},
     "output_type": "execute_result"
    }
   ],
   "source": [
    "stats.mstats.mquantiles(x,prob=np.arange(0,1.1,0.1))"
   ]
  },
  {
   "cell_type": "code",
   "execution_count": 120,
   "metadata": {},
   "outputs": [
    {
     "data": {
      "text/plain": [
       "DescribeResult(nobs=100, minmax=(49.34103055249776, 63.80926387196283), mean=57.17942404660345, variance=9.23478744740847, skewness=0.005171839713554377, kurtosis=-0.37835455663313455)"
      ]
     },
     "execution_count": 120,
     "metadata": {},
     "output_type": "execute_result"
    }
   ],
   "source": [
    "stats.describe(x)"
   ]
  },
  {
   "cell_type": "markdown",
   "metadata": {},
   "source": [
    "## Medidas de dispersión\n",
    "\n",
    "Estas medidas permiten estimar el grado de dispersión de las observaciones al rededor del centro. \n",
    "\n",
    "Son números reales no negativos, su valor es igual a cero cuando los datos son iguales. Si los datos están muy grupados, la medida será baja; será alta caso contrario.\n",
    "\n",
    "### La desviación estándar\n",
    "\n",
    "Fue introducida por Karl Person en 1894 y se define:\n",
    "\n",
    "> La desviación estándar (o desviación típica), notada por $s$, de un conjunto de $n$ mediciones $x_1+x_2+\\ldots+x_n$ es la raíz cuadrada de las desviaciones de las mediciones, respecto al promedio $\\bar{x}$, dividida entre $n-1$; es decir \n",
    "\n",
    "$$\n",
    "s  = \\sqrt{\\frac{1}{n-1}\\sum_{i = 1}^{n}(x_i-\\bar{x})^2}\n",
    "$$\n",
    "\n",
    "-   Se expresa en las mismas unidades que los datos originales\n",
    "-   En su cálculo intervienen todos los valores de la distribución\n",
    "-   Es única\n",
    "-   Se ve afectada por valores atípicos"
   ]
  },
  {
   "cell_type": "code",
   "execution_count": 121,
   "metadata": {},
   "outputs": [
    {
     "data": {
      "text/plain": [
       "9.142439572934386"
      ]
     },
     "execution_count": 121,
     "metadata": {},
     "output_type": "execute_result"
    }
   ],
   "source": [
    "np.var(x)"
   ]
  },
  {
   "cell_type": "code",
   "execution_count": 122,
   "metadata": {},
   "outputs": [
    {
     "data": {
      "text/plain": [
       "3.0236467341497395"
      ]
     },
     "execution_count": 122,
     "metadata": {},
     "output_type": "execute_result"
    }
   ],
   "source": [
    "np.std(x)"
   ]
  },
  {
   "cell_type": "markdown",
   "metadata": {},
   "source": [
    "`hstack` agrega valores al vector:"
   ]
  },
  {
   "cell_type": "code",
   "execution_count": 123,
   "metadata": {},
   "outputs": [
    {
     "data": {
      "text/plain": [
       "nan"
      ]
     },
     "execution_count": 123,
     "metadata": {},
     "output_type": "execute_result"
    }
   ],
   "source": [
    "x1 = np.hstack((x,np.nan))\n",
    "np.mean(x1)"
   ]
  },
  {
   "cell_type": "code",
   "execution_count": 124,
   "metadata": {},
   "outputs": [
    {
     "data": {
      "text/plain": [
       "57.17942404660345"
      ]
     },
     "execution_count": 124,
     "metadata": {},
     "output_type": "execute_result"
    }
   ],
   "source": [
    "np.nanmean(x1)"
   ]
  },
  {
   "cell_type": "code",
   "execution_count": 125,
   "metadata": {},
   "outputs": [
    {
     "data": {
      "text/plain": [
       "3.0236467341497395"
      ]
     },
     "execution_count": 125,
     "metadata": {},
     "output_type": "execute_result"
    }
   ],
   "source": [
    "np.nanstd(x1)"
   ]
  },
  {
   "cell_type": "code",
   "execution_count": 126,
   "metadata": {},
   "outputs": [
    {
     "data": {
      "text/plain": [
       "9.142439572934386"
      ]
     },
     "execution_count": 126,
     "metadata": {},
     "output_type": "execute_result"
    }
   ],
   "source": [
    "np.nanvar(x1)"
   ]
  },
  {
   "cell_type": "markdown",
   "metadata": {},
   "source": [
    "### Rango\n",
    "\n",
    "Se define como la diferencia entre el máximo y el mínimo de los datos"
   ]
  },
  {
   "cell_type": "code",
   "execution_count": 127,
   "metadata": {},
   "outputs": [],
   "source": [
    "rango = np.ptp(x) # ptp: peak to peak"
   ]
  },
  {
   "cell_type": "code",
   "execution_count": 128,
   "metadata": {},
   "outputs": [
    {
     "data": {
      "text/plain": [
       "14.468233319465064"
      ]
     },
     "execution_count": 128,
     "metadata": {},
     "output_type": "execute_result"
    }
   ],
   "source": [
    "rango"
   ]
  },
  {
   "cell_type": "markdown",
   "metadata": {},
   "source": [
    "## Notación de probabilidad\n",
    "\n",
    "- El **espacio muestral**, $\\Omega$, es la colección de posibles resultados de un experimento\n",
    "  - Ejemplo: lanzamiento de un dado $\\Omega = \\{1,2,3,4,5,6\\}$\n",
    "- Un **evento**, digamos $E$, es un subconjunto de $\\Omega$ \n",
    "  - Ejemplo: el resultado de un lanzamiento es par $E = \\{2,4,6\\}$\n",
    "- Un evento **elemental** o **simple** es un resultado particular de un experimento\n",
    "  - Ejemplo: el resultado de un lanzamiento es cuatro $\\omega = 4$\n",
    "- $\\emptyset$ se denomina un **evento nulo** o **conjunto vacío**"
   ]
  },
  {
   "cell_type": "markdown",
   "metadata": {},
   "source": [
    "## Interpretación de los operadores de conjuntos\n",
    "\n",
    "1. $\\omega \\in E$ implica que $E$ ocurre cuando $\\omega$ ocurre\n",
    "2. $\\omega \\not\\in E$ implica que $E$ no occurre cuando $\\omega$ ocurre\n",
    "3. $E \\subset F$ implica que la ocurrencia de $E$ implica la ocurrencia de $F$\n",
    "4. $E \\cap F$  implica el evento en que ambos $E$ y $F$ occurren\n",
    "5. $E \\cup F$ implica el evento en que al menos uno de los dos ocurra $E$ or $F$\n",
    "6. $E \\cap F=\\emptyset$ significa que $E$ y $F$ son **mutuamente excluyentes**, o no puenden ocurrir ambos\n",
    "7. $E^c$ o $\\bar E$ es el evento que $E$ no ocurre"
   ]
  },
  {
   "cell_type": "markdown",
   "metadata": {},
   "source": [
    "## Funciones importantes\n",
    "\n",
    "Una **medida de probabilidad**, $P$, es una función de una colección posible de eventos tal que\n",
    "\n",
    "1. Para un evento $E\\subset \\Omega$, $0 \\leq P(E) \\leq 1$\n",
    "2. $P(\\Omega) = 1$\n",
    "3. Si $E_1$ and $E_2$ son eventos mutuamente excluyentes\n",
    "  $P(E_1 \\cup E_2) = P(E_1) + P(E_2)$.\n",
    "\n",
    "El punto 3 de la definición implica **aditividad finita**\n",
    "\n",
    "$$\n",
    "P(\\cup_{i=1}^n A_i) = \\sum_{i=1}^n P(A_i)\n",
    "$$\n",
    "donde los eventos $\\{A_i\\}$ son mutuamente excluyentes. "
   ]
  },
  {
   "cell_type": "markdown",
   "metadata": {},
   "source": [
    "## Algunas consecuencias\n",
    "\n",
    "- $P(\\emptyset) = 0$\n",
    "- $P(E) = 1 - P(E^c)$\n",
    "- $P(A \\cup B) = P(A) + P(B) - P(A \\cap B)$\n",
    "- if $A \\subset B$ then $P(A) \\leq P(B)$\n",
    "- $P\\left(A \\cup B\\right) = 1 - P(A^c \\cap B^c)$\n",
    "- $P(A \\cap B^c) = P(A) - P(A \\cap B)$\n",
    "- $P(\\cup_{i=1}^n E_i) \\leq \\sum_{i=1}^n P(E_i)$\n",
    "- $P(\\cup_{i=1}^n E_i) \\geq \\max_i P(E_i)$"
   ]
  },
  {
   "cell_type": "markdown",
   "metadata": {},
   "source": [
    "### Ejemplo\n",
    "\n",
    "La National Sleep Foundation (www.sleepfoundation.org) informa que alrededor del 3% de la población estadounidense tiene apnea del sueño. También informan que alrededor del 10% de la población de América del Norte y Europa tiene síndrome de piernas inquietas. ¿Implica esto que el 13% de las personas tendrá al menos un problema de sueño de este tipo?\n"
   ]
  },
  {
   "cell_type": "markdown",
   "metadata": {},
   "source": [
    "### Respuesta\n",
    "\n",
    "No, los eventos no son mutuamente excluyentes. Veamos:\n",
    "\n",
    "\n",
    "\\begin{eqnarray*}\n",
    "    A_1 & = & \\{\\mbox{Persona con apnea del sueño}\\} \\\\\n",
    "    A_2 & = & \\{\\mbox{Persona con RLS}\\} \\\\\n",
    "\\end{eqnarray*}\n",
    "\n",
    "\n",
    "Luego\n",
    "\n",
    "\n",
    "\\begin{eqnarray*}\n",
    "    P(A_1 \\cup A_2 ) & = & P(A_1) + P(A_2) - P(A_1 \\cap A_2) \\\\\n",
    "   & = & 0.13 - \\mbox{Probabilidad de tener ambos}\\\\\n",
    "  \\end{eqnarray*}\n",
    "\n",
    "\n",
    "Una porción de la población tiene ambos"
   ]
  },
  {
   "cell_type": "markdown",
   "metadata": {},
   "source": [
    "## Variables aleatorias\n",
    "\n",
    "- Una **variable aleatoria** es un resultado numérico de un experimento.\n",
    "- Las variables aleatorias que estudiamos tienen dos variantes: **discretas** or **continuas**.\n",
    "- Las v.a discretas son las que tienen un número contable de posibilidades.\n",
    "  * $P(X = k)$\n",
    "- Las v.a. continuas toman valores en los reales o un subconjunto de los reales.\n",
    "  * $P(X \\in A)$"
   ]
  },
  {
   "cell_type": "markdown",
   "metadata": {},
   "source": [
    "## Ejemplos de v.a.\n",
    "\n",
    "- Los resultados $(0-1)$ del lanzamiento de una moneda\n",
    "- Los resultados del lanzamiento de un dado\n",
    "- El índice de masa corpotal de una persona en una toma futura a la línea base\n",
    "- El estado de hipertensión de una persona seleccionada al alzar de una población"
   ]
  },
  {
   "cell_type": "markdown",
   "metadata": {},
   "source": [
    "## Función de masa de probabilidad $p(x)$\n",
    "\n",
    "Una función de masa de probabilidad evaluada en un valor corresponde a la probabilidad que una v.a. toma ese valor. Para se una función válida, se debe satisfacer:\n",
    "\n",
    "  1. $p(x) \\geq 0$ for all $x$\n",
    "  2. $\\sum_{x} p(x) = 1$\n",
    "\n",
    "La suma se toma sobre todos los valores de $x$."
   ]
  },
  {
   "cell_type": "markdown",
   "metadata": {},
   "source": [
    "### Ejemplo\n",
    "\n",
    "Sea $X$ el resultado del lanzamiento de una moneda donde $X=0$ representa\n",
    "sello y $X = 1$ representa cara.\n",
    "$$\n",
    "p(x) = (1/2)^{x} (1/2)^{1-x} ~~\\mbox{ for }~~x = 0,1\n",
    "$$\n",
    "Suponga que no sabemos si la moneda es justa. Sea\n",
    "$\\theta$  la probabilidad de que salga cara se expresa como una proporción\n",
    "(entre 0 y 1).\n",
    "$$\n",
    "p(x) = \\theta^{x} (1 - \\theta)^{1-x} ~~\\mbox{ for }~~x = 0,1\n",
    "$$\n"
   ]
  },
  {
   "cell_type": "markdown",
   "metadata": {},
   "source": [
    "## Función de densidad\n",
    "\n",
    "Una función de densidad (pdf), es una función asociada con una v.a. continua \n",
    "\n",
    "  *Las areas debajo las pdfs corresponden a las probabilidades de esa v.a.*\n",
    "\n",
    "La función $f$ debe satisfacer\n",
    "\n",
    "1. $f(x) \\geq 0$ para todo $x$\n",
    "\n",
    "2. El área debajo de $f(x)$ es uno."
   ]
  },
  {
   "cell_type": "markdown",
   "metadata": {},
   "source": [
    "### Ejemplo\n",
    "\n",
    "Suppose that the proportion of help calls that get addressed in\n",
    "a random day by a help line is given by\n",
    "$$\n",
    "f(x) = \\left\\{\\begin{array}{ll}\n",
    "    2 x & \\mbox{ for } 1 > x > 0 \\\\\n",
    "    0                 & \\mbox{ otherwise} \n",
    "\\end{array} \\right. \n",
    "$$\n",
    "\n",
    "¿Es esta una densidad válida?\n"
   ]
  },
  {
   "cell_type": "code",
   "execution_count": 129,
   "metadata": {},
   "outputs": [
    {
     "data": {
      "text/plain": [
       "[<matplotlib.lines.Line2D at 0x7ff5a94179d0>]"
      ]
     },
     "execution_count": 129,
     "metadata": {},
     "output_type": "execute_result"
    },
    {
     "data": {
      "image/png": "[encoded data removed]",
      "text/plain": [
       "<Figure size 640x480 with 1 Axes>"
      ]
     },
     "metadata": {},
     "output_type": "display_data"
    }
   ],
   "source": [
    "x = [-0.5, 0, 1, 1, 1.5]\n",
    "y = [0, 0, 2, 0, 0] \n",
    "import matplotlib.pyplot as plt\n",
    "plt.plot(x,y)"
   ]
  },
  {
   "cell_type": "markdown",
   "metadata": {},
   "source": [
    "### Ejemplo\n",
    "\n",
    "¿Cuál es la probabilidad de que se atienda el 75% o menos de las llamadas?\n"
   ]
  },
  {
   "cell_type": "markdown",
   "metadata": {},
   "source": [
    "## Función de distribución acumulada\n",
    "\n",
    "- La  **función de distribución acumulada** (CDF) de una v.a. $X$ se define como la función\n",
    "$$\n",
    "F(x) = P(X \\leq x)\n",
    "$$\n",
    "\n",
    "-   Esta definición aplica indistintamente de si $X$ es discreta o continua.\n",
    "-   La **función de supervivencia** de una v.a. $X$ es definida como\n",
    "\n",
    "$$\n",
    "S(x) = P(X > x)\n",
    "$$\n",
    "- Note que $S(x) = 1 - F(x)$\n",
    "- Para v.a. continuas, la función de densidad es la derivada de la acumulada"
   ]
  },
  {
   "cell_type": "markdown",
   "metadata": {},
   "source": [
    "### Ejemplo\n",
    "\n",
    "¿Cuál es la función de supervivencia y CDF de la densidad considerada antes?\n",
    "\n",
    "Para $1 \\geq x \\geq 0$\n",
    "$$\n",
    "F(x) = P(X \\leq x) = \\frac{1}{2} Base \\times Height = \\frac{1}{2} (x) \\times (2 x) = x^2\n",
    "$$\n",
    "\n",
    "$$\n",
    "S(x) = 1 - x^2\n",
    "$$\n",
    "\n",
    "```{r}\n",
    "pbeta(c(0.4, 0.5, 0.6), 2, 1)\n",
    "```\n"
   ]
  },
  {
   "cell_type": "markdown",
   "metadata": {},
   "source": [
    "## Cuantiles\n",
    "\n",
    "-   El **cuantil**  $\\alpha^{th}$ de una distribución con función de distribución $F$ es el punto $x_\\alpha$ tal que\n",
    "\n",
    "$$\n",
    "F(x_\\alpha) = \\alpha\n",
    "$$\n",
    "\n",
    "-   Un **percentil** es simplemente un cuantil con $\\alpha$ expresado como porcentaje.\n",
    "\n",
    "-   La **mediana** es el percentil $50^{th}$.\n"
   ]
  },
  {
   "cell_type": "code",
   "execution_count": null,
   "metadata": {},
   "outputs": [],
   "source": []
  }
 ],
 "metadata": {
  "celltoolbar": "Raw Cell Format",
  "kernelspec": {
   "display_name": "Python 3 (ipykernel)",
   "language": "python",
   "name": "python3"
  },
  "language_info": {
   "codemirror_mode": {
    "name": "ipython",
    "version": 3
   },
   "file_extension": ".py",
   "mimetype": "text/x-python",
   "name": "python",
   "nbconvert_exporter": "python",
   "pygments_lexer": "ipython3",
   "version": "3.9.16"
  }
 },
 "nbformat": 4,
 "nbformat_minor": 4
}
