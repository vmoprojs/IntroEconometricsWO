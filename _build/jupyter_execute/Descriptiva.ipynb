{
 "cells": [
  {
   "cell_type": "markdown",
   "metadata": {},
   "source": [
    "# Estadística Descriptiva & Pruebas de hipótesis"
   ]
  },
  {
   "cell_type": "markdown",
   "metadata": {},
   "source": [
    "Es fácil calcular estadísticos de resumen en `python`. Aquí tienen cómo calcular la media, desviación estándar, varianza y mediana.\n",
    "\n",
    "## Medidas de resumen\n",
    "\n",
    "Creamos 100 números aleatorios con distribución normal:"
   ]
  },
  {
   "cell_type": "code",
   "execution_count": 1,
   "metadata": {},
   "outputs": [],
   "source": [
    "import numpy as np\n",
    "N = 100\n",
    "x = np.random.normal(loc = 0, scale = 1, size = N)"
   ]
  },
  {
   "cell_type": "markdown",
   "metadata": {},
   "source": [
    "### Desviación estándar"
   ]
  },
  {
   "cell_type": "code",
   "execution_count": 2,
   "metadata": {},
   "outputs": [
    {
     "data": {
      "text/plain": [
       "0.861980300201346"
      ]
     },
     "execution_count": 2,
     "metadata": {},
     "output_type": "execute_result"
    }
   ],
   "source": [
    "np.std(x)"
   ]
  },
  {
   "cell_type": "markdown",
   "metadata": {},
   "source": [
    "### Varianza"
   ]
  },
  {
   "cell_type": "code",
   "execution_count": 3,
   "metadata": {},
   "outputs": [
    {
     "data": {
      "text/plain": [
       "0.7430100379352025"
      ]
     },
     "execution_count": 3,
     "metadata": {},
     "output_type": "execute_result"
    }
   ],
   "source": [
    "np.var(x)"
   ]
  },
  {
   "cell_type": "markdown",
   "metadata": {},
   "source": [
    "`hstack` agrega valores al vector:"
   ]
  },
  {
   "cell_type": "code",
   "execution_count": 4,
   "metadata": {},
   "outputs": [],
   "source": [
    "x1 = np.hstack((x,np.nan))"
   ]
  },
  {
   "cell_type": "markdown",
   "metadata": {},
   "source": [
    "### Promedio\n",
    "\n",
    "Toma en cuenta lo que pasa con valores `nan`"
   ]
  },
  {
   "cell_type": "code",
   "execution_count": 5,
   "metadata": {},
   "outputs": [
    {
     "data": {
      "text/plain": [
       "nan"
      ]
     },
     "execution_count": 5,
     "metadata": {},
     "output_type": "execute_result"
    }
   ],
   "source": [
    "np.mean(x1)"
   ]
  },
  {
   "cell_type": "code",
   "execution_count": 6,
   "metadata": {},
   "outputs": [
    {
     "data": {
      "text/plain": [
       "0.19251217933219608"
      ]
     },
     "execution_count": 6,
     "metadata": {},
     "output_type": "execute_result"
    }
   ],
   "source": [
    "np.nanmean(x1)"
   ]
  },
  {
   "cell_type": "code",
   "execution_count": 7,
   "metadata": {},
   "outputs": [
    {
     "data": {
      "text/plain": [
       "0.861980300201346"
      ]
     },
     "execution_count": 7,
     "metadata": {},
     "output_type": "execute_result"
    }
   ],
   "source": [
    "np.nanstd(x1)"
   ]
  },
  {
   "cell_type": "code",
   "execution_count": 8,
   "metadata": {},
   "outputs": [
    {
     "data": {
      "text/plain": [
       "0.7430100379352025"
      ]
     },
     "execution_count": 8,
     "metadata": {},
     "output_type": "execute_result"
    }
   ],
   "source": [
    "np.nanvar(x1)"
   ]
  },
  {
   "cell_type": "code",
   "execution_count": 9,
   "metadata": {},
   "outputs": [
    {
     "data": {
      "text/plain": [
       "0.20508312174465215"
      ]
     },
     "execution_count": 9,
     "metadata": {},
     "output_type": "execute_result"
    }
   ],
   "source": [
    "np.median(x)"
   ]
  },
  {
   "cell_type": "markdown",
   "metadata": {},
   "source": [
    "### La moda"
   ]
  },
  {
   "cell_type": "code",
   "execution_count": 10,
   "metadata": {},
   "outputs": [],
   "source": [
    "from scipy import stats"
   ]
  },
  {
   "cell_type": "code",
   "execution_count": 11,
   "metadata": {},
   "outputs": [],
   "source": [
    "data = [1,3,4,4,7,4]"
   ]
  },
  {
   "cell_type": "code",
   "execution_count": 12,
   "metadata": {},
   "outputs": [
    {
     "name": "stderr",
     "output_type": "stream",
     "text": [
      "/var/folders/0p/n_r_hl095sv7nktfp_8n9n_80000gn/T/ipykernel_2869/3267261142.py:1: FutureWarning: Unlike other reduction functions (e.g. `skew`, `kurtosis`), the default behavior of `mode` typically preserves the axis it acts along. In SciPy 1.11.0, this behavior will change: the default value of `keepdims` will become False, the `axis` over which the statistic is taken will be eliminated, and the value None will no longer be accepted. Set `keepdims` to True or False to avoid this warning.\n",
      "  stats.mode(data)\n"
     ]
    },
    {
     "data": {
      "text/plain": [
       "ModeResult(mode=array([4]), count=array([3]))"
      ]
     },
     "execution_count": 12,
     "metadata": {},
     "output_type": "execute_result"
    }
   ],
   "source": [
    "stats.mode(data)"
   ]
  },
  {
   "cell_type": "markdown",
   "metadata": {},
   "source": [
    "### Rango"
   ]
  },
  {
   "cell_type": "code",
   "execution_count": 13,
   "metadata": {},
   "outputs": [],
   "source": [
    "range = np.ptp(x) # ptp: peak to peak"
   ]
  },
  {
   "cell_type": "code",
   "execution_count": 14,
   "metadata": {},
   "outputs": [
    {
     "data": {
      "text/plain": [
       "4.742265582406896"
      ]
     },
     "execution_count": 14,
     "metadata": {},
     "output_type": "execute_result"
    }
   ],
   "source": [
    "range"
   ]
  },
  {
   "cell_type": "markdown",
   "metadata": {},
   "source": [
    "### Percentiles"
   ]
  },
  {
   "cell_type": "code",
   "execution_count": 15,
   "metadata": {},
   "outputs": [
    {
     "data": {
      "text/plain": [
       "array([-0.38034133,  0.20508312,  0.72916779])"
      ]
     },
     "execution_count": 15,
     "metadata": {},
     "output_type": "execute_result"
    }
   ],
   "source": [
    "from scipy import stats\n",
    "\n",
    "#https://docs.scipy.org/doc/scipy/reference/stats.html\n",
    "stats.mstats.mquantiles(x)"
   ]
  },
  {
   "cell_type": "code",
   "execution_count": 16,
   "metadata": {},
   "outputs": [
    {
     "data": {
      "text/plain": [
       "array([-1.72802048, -0.82852616, -0.59685361, -0.28259312,  0.03927731,\n",
       "        0.20508312,  0.35782023,  0.58995414,  0.79563471,  1.18165891,\n",
       "        3.0142451 ])"
      ]
     },
     "execution_count": 16,
     "metadata": {},
     "output_type": "execute_result"
    }
   ],
   "source": [
    "stats.mstats.mquantiles(x,prob=np.arange(0,1.1,0.1))"
   ]
  },
  {
   "cell_type": "code",
   "execution_count": 17,
   "metadata": {},
   "outputs": [
    {
     "data": {
      "text/plain": [
       "DescribeResult(nobs=100, minmax=(-1.728020480553834, 3.014245101853062), mean=0.19251217933219608, variance=0.7505151898335379, skewness=0.48881342823666857, kurtosis=1.0302836935151003)"
      ]
     },
     "execution_count": 17,
     "metadata": {},
     "output_type": "execute_result"
    }
   ],
   "source": [
    "stats.describe(x)"
   ]
  },
  {
   "cell_type": "markdown",
   "metadata": {},
   "source": [
    "## Distribuciones"
   ]
  },
  {
   "cell_type": "code",
   "execution_count": 18,
   "metadata": {},
   "outputs": [],
   "source": [
    "miFD = stats.norm(5,3)"
   ]
  },
  {
   "cell_type": "code",
   "execution_count": 19,
   "metadata": {},
   "outputs": [
    {
     "data": {
      "text/plain": [
       "<scipy.stats._distn_infrastructure.rv_continuous_frozen at 0x7fc4ecb33fa0>"
      ]
     },
     "execution_count": 19,
     "metadata": {},
     "output_type": "execute_result"
    }
   ],
   "source": [
    "miFD"
   ]
  },
  {
   "cell_type": "code",
   "execution_count": 20,
   "metadata": {},
   "outputs": [],
   "source": [
    "x = np.linspace(-5,15,101)\n",
    "y1 = miFD.pdf(x) # densidad\n",
    "y2 = miFD.cdf(x) # acumulada\n",
    "y3 = miFD.ppf(y2) # cuantil"
   ]
  },
  {
   "cell_type": "code",
   "execution_count": 21,
   "metadata": {},
   "outputs": [
    {
     "data": {
      "image/png": "[encoded data removed]",
      "text/plain": [
       "<Figure size 640x480 with 1 Axes>"
      ]
     },
     "metadata": {},
     "output_type": "display_data"
    }
   ],
   "source": [
    "#%matplotlib notebook\n",
    "import matplotlib.pyplot as plt\n",
    "\n",
    "plt.figure()\n",
    "plt.plot(x,y1,'-');"
   ]
  },
  {
   "cell_type": "code",
   "execution_count": 22,
   "metadata": {},
   "outputs": [
    {
     "data": {
      "image/png": "[encoded data removed]",
      "text/plain": [
       "<Figure size 640x480 with 1 Axes>"
      ]
     },
     "metadata": {},
     "output_type": "display_data"
    }
   ],
   "source": [
    "plt.figure()\n",
    "plt.plot(x,y2,'-');"
   ]
  },
  {
   "cell_type": "code",
   "execution_count": 23,
   "metadata": {},
   "outputs": [
    {
     "data": {
      "image/png": "[encoded data removed]",
      "text/plain": [
       "<Figure size 640x480 with 1 Axes>"
      ]
     },
     "metadata": {},
     "output_type": "display_data"
    }
   ],
   "source": [
    "plt.figure()\n",
    "x1 = np.linspace(0,1, len(y3))\n",
    "plt.plot(y2,y3,'-');"
   ]
  },
  {
   "cell_type": "markdown",
   "metadata": {},
   "source": [
    "Distribución acumulada empírica"
   ]
  },
  {
   "cell_type": "code",
   "execution_count": 24,
   "metadata": {},
   "outputs": [],
   "source": [
    "x = stats.norm.rvs(loc=0,scale=1,size=1000) # distribucion normal estandar\n",
    "x = np.sort(x) # odenamos los valores de la variable\n",
    "n = x.size # tamano de la muestra\n",
    "y = np.arange(1, n+1) / n # % acumulado"
   ]
  },
  {
   "cell_type": "code",
   "execution_count": 25,
   "metadata": {},
   "outputs": [
    {
     "data": {
      "text/plain": [
       "Text(0, 0.5, 'y')"
      ]
     },
     "execution_count": 25,
     "metadata": {},
     "output_type": "execute_result"
    },
    {
     "data": {
      "image/png": "[encoded data removed]",
      "text/plain": [
       "<Figure size 640x480 with 1 Axes>"
      ]
     },
     "metadata": {},
     "output_type": "display_data"
    }
   ],
   "source": [
    "plt.figure()\n",
    "plt.scatter(x=x, y=y);\n",
    "plt.xlabel('x', fontsize=16)\n",
    "plt.ylabel('y', fontsize=16)"
   ]
  },
  {
   "cell_type": "code",
   "execution_count": 26,
   "metadata": {},
   "outputs": [],
   "source": [
    "from statsmodels.distributions.empirical_distribution import ECDF\n",
    "ecdf = ECDF(x)"
   ]
  },
  {
   "cell_type": "code",
   "execution_count": 27,
   "metadata": {},
   "outputs": [
    {
     "data": {
      "text/plain": [
       "0.936"
      ]
     },
     "execution_count": 27,
     "metadata": {},
     "output_type": "execute_result"
    }
   ],
   "source": [
    "ecdf(1.5)"
   ]
  },
  {
   "cell_type": "markdown",
   "metadata": {},
   "source": [
    "QQ plot"
   ]
  },
  {
   "cell_type": "code",
   "execution_count": 28,
   "metadata": {},
   "outputs": [],
   "source": [
    "#https://docs.scipy.org/doc/scipy/reference/generated/scipy.stats.probplot.html#scipy.stats.probplot\n",
    "nsample = 100\n",
    "np.random.seed(7654321)"
   ]
  },
  {
   "cell_type": "code",
   "execution_count": 29,
   "metadata": {},
   "outputs": [
    {
     "data": {
      "image/png": "[encoded data removed]",
      "text/plain": [
       "<Figure size 640x480 with 1 Axes>"
      ]
     },
     "metadata": {},
     "output_type": "display_data"
    }
   ],
   "source": [
    "plt.figure()\n",
    "x = stats.t.rvs(df=3, size=nsample)\n",
    "res = stats.probplot(x, plot=plt)"
   ]
  },
  {
   "cell_type": "markdown",
   "metadata": {},
   "source": [
    "## Test sobre una y dos muestras"
   ]
  },
  {
   "cell_type": "markdown",
   "metadata": {},
   "source": [
    "Se introducen dos funciones: `stats.ttest_1samp` y `stats.wilcoxon` para el test t y el test de Wilcoxon respectivamente. Ambos pueden ser usados para una muestra o dos muestras así como para datos pareados. Note que el test de Wilcoxon para dos muestras es lo mismo que el test de Mann–Whitney.\n",
    "\n",
    "### El test t\n",
    "\n",
    "Este test se basa en el supuesto de normalidad de los datos. Es decir que los datos $x_1\\ldots,x_n$ se asumen como realizaciones independientes de variables aleatorias con media $\\mu$ y varianza $\\sigma^2$, $N(\\mu, \\sigma^2)$. Se tiene que la hipótesis nula es que $\\mu=\\mu_0$.\n",
    "\n",
    "Se puede estimar los parámetros $\\mu$ y $\\sigma$ por la media $\\bar{x}$ y la desviación estándar  $\\sigma$, aunque recuerde que solo son estimaciones del valor real.\n",
    "\n",
    "Veamos un ejemplo del consuo diario de calorías de 11 mujeres:"
   ]
  },
  {
   "cell_type": "code",
   "execution_count": 30,
   "metadata": {},
   "outputs": [],
   "source": [
    "daily_intake = [5260,5470,5640,6180,6390,6515,\n",
    "                  6805,7515,7515,8230,8770]"
   ]
  },
  {
   "cell_type": "markdown",
   "metadata": {},
   "source": [
    "Veamos algunas estadísticas de resumen:"
   ]
  },
  {
   "cell_type": "code",
   "execution_count": 31,
   "metadata": {},
   "outputs": [
    {
     "data": {
      "text/plain": [
       "DescribeResult(nobs=11, minmax=(5260, 8770), mean=6753.636363636364, variance=1304445.4545454548, skewness=0.3674679616524392, kurtosis=-0.9757942883536157)"
      ]
     },
     "execution_count": 31,
     "metadata": {},
     "output_type": "execute_result"
    }
   ],
   "source": [
    "stats.describe(daily_intake)"
   ]
  },
  {
   "cell_type": "markdown",
   "metadata": {},
   "source": [
    "Se podría querer saber si el consumo de energía de las mujeres se desvía de una valor recomendado de $7725$. Asumiendo que los datos vienen de una distribución normal, el objetivo es hacer una prueba para saber si la media de la distribución es $\\mu = 7725$."
   ]
  },
  {
   "cell_type": "code",
   "execution_count": 32,
   "metadata": {},
   "outputs": [
    {
     "data": {
      "text/plain": [
       "TtestResult(statistic=-2.8207540608310193, pvalue=0.018137235176105812, df=10)"
      ]
     },
     "execution_count": 32,
     "metadata": {},
     "output_type": "execute_result"
    }
   ],
   "source": [
    "stats.ttest_1samp(daily_intake,7725)"
   ]
  },
  {
   "cell_type": "code",
   "execution_count": 33,
   "metadata": {},
   "outputs": [],
   "source": [
    "t, pval = stats.ttest_1samp(daily_intake,7725)"
   ]
  },
  {
   "cell_type": "code",
   "execution_count": 34,
   "metadata": {},
   "outputs": [
    {
     "data": {
      "text/plain": [
       "-2.8207540608310193"
      ]
     },
     "execution_count": 34,
     "metadata": {},
     "output_type": "execute_result"
    }
   ],
   "source": [
    "t"
   ]
  },
  {
   "cell_type": "code",
   "execution_count": 35,
   "metadata": {},
   "outputs": [
    {
     "data": {
      "text/plain": [
       "0.018137235176105812"
      ]
     },
     "execution_count": 35,
     "metadata": {},
     "output_type": "execute_result"
    }
   ],
   "source": [
    "pval"
   ]
  },
  {
   "cell_type": "markdown",
   "metadata": {},
   "source": [
    "### Wilcoxon"
   ]
  },
  {
   "cell_type": "code",
   "execution_count": 36,
   "metadata": {},
   "outputs": [],
   "source": [
    "(rank, pVal) = stats.wilcoxon(x=(np.array(daily_intake)-7725))"
   ]
  },
  {
   "cell_type": "code",
   "execution_count": 37,
   "metadata": {},
   "outputs": [
    {
     "data": {
      "text/plain": [
       "(8.0, 0.0244140625)"
      ]
     },
     "execution_count": 37,
     "metadata": {},
     "output_type": "execute_result"
    }
   ],
   "source": [
    "(rank, pVal)"
   ]
  },
  {
   "cell_type": "markdown",
   "metadata": {},
   "source": [
    "Para efectos prácticos, cuando se trata de una muestra, el test t y el de Wilcoxon suelen arrojar resultados muy similares."
   ]
  },
  {
   "cell_type": "markdown",
   "metadata": {},
   "source": [
    "## Test t para dos muestras\n",
    "\n",
    "Se usa esta prueba con la hipótesis nula de que dos muestras provengan de distribuciones normales con la misma media.\n",
    "\n",
    "Se puede tener dos enfoques, que las muestras tengan la misma varianza (enfoque clásico) o difieran en varianza."
   ]
  },
  {
   "cell_type": "code",
   "execution_count": 38,
   "metadata": {},
   "outputs": [
    {
     "ename": "FileNotFoundError",
     "evalue": "[Errno 2] No such file or directory: 'Data/energy.csv'",
     "output_type": "error",
     "traceback": [
      "\u001b[0;31m---------------------------------------------------------------------------\u001b[0m",
      "\u001b[0;31mFileNotFoundError\u001b[0m                         Traceback (most recent call last)",
      "Cell \u001b[0;32mIn[38], line 7\u001b[0m\n\u001b[1;32m      4\u001b[0m \u001b[38;5;28;01mimport\u001b[39;00m \u001b[38;5;21;01mpandas\u001b[39;00m \u001b[38;5;28;01mas\u001b[39;00m \u001b[38;5;21;01mpd\u001b[39;00m\n\u001b[1;32m      5\u001b[0m \u001b[38;5;66;03m#os.chdir('C:/Users/VICTOR/Documents/AnalyticsPython/Data')\u001b[39;00m\n\u001b[0;32m----> 7\u001b[0m energy \u001b[38;5;241m=\u001b[39m \u001b[43mpd\u001b[49m\u001b[38;5;241;43m.\u001b[39;49m\u001b[43mread_csv\u001b[49m\u001b[43m(\u001b[49m\u001b[38;5;124;43m'\u001b[39;49m\u001b[38;5;124;43mData/energy.csv\u001b[39;49m\u001b[38;5;124;43m'\u001b[39;49m\u001b[43m)\u001b[49m\n\u001b[1;32m      8\u001b[0m energy\u001b[38;5;241m.\u001b[39mhead()\n",
      "File \u001b[0;32m~/opt/anaconda3/lib/python3.9/site-packages/pandas/util/_decorators.py:211\u001b[0m, in \u001b[0;36mdeprecate_kwarg.<locals>._deprecate_kwarg.<locals>.wrapper\u001b[0;34m(*args, **kwargs)\u001b[0m\n\u001b[1;32m    209\u001b[0m     \u001b[38;5;28;01melse\u001b[39;00m:\n\u001b[1;32m    210\u001b[0m         kwargs[new_arg_name] \u001b[38;5;241m=\u001b[39m new_arg_value\n\u001b[0;32m--> 211\u001b[0m \u001b[38;5;28;01mreturn\u001b[39;00m \u001b[43mfunc\u001b[49m\u001b[43m(\u001b[49m\u001b[38;5;241;43m*\u001b[39;49m\u001b[43margs\u001b[49m\u001b[43m,\u001b[49m\u001b[43m \u001b[49m\u001b[38;5;241;43m*\u001b[39;49m\u001b[38;5;241;43m*\u001b[39;49m\u001b[43mkwargs\u001b[49m\u001b[43m)\u001b[49m\n",
      "File \u001b[0;32m~/opt/anaconda3/lib/python3.9/site-packages/pandas/util/_decorators.py:331\u001b[0m, in \u001b[0;36mdeprecate_nonkeyword_arguments.<locals>.decorate.<locals>.wrapper\u001b[0;34m(*args, **kwargs)\u001b[0m\n\u001b[1;32m    325\u001b[0m \u001b[38;5;28;01mif\u001b[39;00m \u001b[38;5;28mlen\u001b[39m(args) \u001b[38;5;241m>\u001b[39m num_allow_args:\n\u001b[1;32m    326\u001b[0m     warnings\u001b[38;5;241m.\u001b[39mwarn(\n\u001b[1;32m    327\u001b[0m         msg\u001b[38;5;241m.\u001b[39mformat(arguments\u001b[38;5;241m=\u001b[39m_format_argument_list(allow_args)),\n\u001b[1;32m    328\u001b[0m         \u001b[38;5;167;01mFutureWarning\u001b[39;00m,\n\u001b[1;32m    329\u001b[0m         stacklevel\u001b[38;5;241m=\u001b[39mfind_stack_level(),\n\u001b[1;32m    330\u001b[0m     )\n\u001b[0;32m--> 331\u001b[0m \u001b[38;5;28;01mreturn\u001b[39;00m \u001b[43mfunc\u001b[49m\u001b[43m(\u001b[49m\u001b[38;5;241;43m*\u001b[39;49m\u001b[43margs\u001b[49m\u001b[43m,\u001b[49m\u001b[43m \u001b[49m\u001b[38;5;241;43m*\u001b[39;49m\u001b[38;5;241;43m*\u001b[39;49m\u001b[43mkwargs\u001b[49m\u001b[43m)\u001b[49m\n",
      "File \u001b[0;32m~/opt/anaconda3/lib/python3.9/site-packages/pandas/io/parsers/readers.py:950\u001b[0m, in \u001b[0;36mread_csv\u001b[0;34m(filepath_or_buffer, sep, delimiter, header, names, index_col, usecols, squeeze, prefix, mangle_dupe_cols, dtype, engine, converters, true_values, false_values, skipinitialspace, skiprows, skipfooter, nrows, na_values, keep_default_na, na_filter, verbose, skip_blank_lines, parse_dates, infer_datetime_format, keep_date_col, date_parser, dayfirst, cache_dates, iterator, chunksize, compression, thousands, decimal, lineterminator, quotechar, quoting, doublequote, escapechar, comment, encoding, encoding_errors, dialect, error_bad_lines, warn_bad_lines, on_bad_lines, delim_whitespace, low_memory, memory_map, float_precision, storage_options)\u001b[0m\n\u001b[1;32m    935\u001b[0m kwds_defaults \u001b[38;5;241m=\u001b[39m _refine_defaults_read(\n\u001b[1;32m    936\u001b[0m     dialect,\n\u001b[1;32m    937\u001b[0m     delimiter,\n\u001b[0;32m   (...)\u001b[0m\n\u001b[1;32m    946\u001b[0m     defaults\u001b[38;5;241m=\u001b[39m{\u001b[38;5;124m\"\u001b[39m\u001b[38;5;124mdelimiter\u001b[39m\u001b[38;5;124m\"\u001b[39m: \u001b[38;5;124m\"\u001b[39m\u001b[38;5;124m,\u001b[39m\u001b[38;5;124m\"\u001b[39m},\n\u001b[1;32m    947\u001b[0m )\n\u001b[1;32m    948\u001b[0m kwds\u001b[38;5;241m.\u001b[39mupdate(kwds_defaults)\n\u001b[0;32m--> 950\u001b[0m \u001b[38;5;28;01mreturn\u001b[39;00m \u001b[43m_read\u001b[49m\u001b[43m(\u001b[49m\u001b[43mfilepath_or_buffer\u001b[49m\u001b[43m,\u001b[49m\u001b[43m \u001b[49m\u001b[43mkwds\u001b[49m\u001b[43m)\u001b[49m\n",
      "File \u001b[0;32m~/opt/anaconda3/lib/python3.9/site-packages/pandas/io/parsers/readers.py:605\u001b[0m, in \u001b[0;36m_read\u001b[0;34m(filepath_or_buffer, kwds)\u001b[0m\n\u001b[1;32m    602\u001b[0m _validate_names(kwds\u001b[38;5;241m.\u001b[39mget(\u001b[38;5;124m\"\u001b[39m\u001b[38;5;124mnames\u001b[39m\u001b[38;5;124m\"\u001b[39m, \u001b[38;5;28;01mNone\u001b[39;00m))\n\u001b[1;32m    604\u001b[0m \u001b[38;5;66;03m# Create the parser.\u001b[39;00m\n\u001b[0;32m--> 605\u001b[0m parser \u001b[38;5;241m=\u001b[39m \u001b[43mTextFileReader\u001b[49m\u001b[43m(\u001b[49m\u001b[43mfilepath_or_buffer\u001b[49m\u001b[43m,\u001b[49m\u001b[43m \u001b[49m\u001b[38;5;241;43m*\u001b[39;49m\u001b[38;5;241;43m*\u001b[39;49m\u001b[43mkwds\u001b[49m\u001b[43m)\u001b[49m\n\u001b[1;32m    607\u001b[0m \u001b[38;5;28;01mif\u001b[39;00m chunksize \u001b[38;5;129;01mor\u001b[39;00m iterator:\n\u001b[1;32m    608\u001b[0m     \u001b[38;5;28;01mreturn\u001b[39;00m parser\n",
      "File \u001b[0;32m~/opt/anaconda3/lib/python3.9/site-packages/pandas/io/parsers/readers.py:1442\u001b[0m, in \u001b[0;36mTextFileReader.__init__\u001b[0;34m(self, f, engine, **kwds)\u001b[0m\n\u001b[1;32m   1439\u001b[0m     \u001b[38;5;28mself\u001b[39m\u001b[38;5;241m.\u001b[39moptions[\u001b[38;5;124m\"\u001b[39m\u001b[38;5;124mhas_index_names\u001b[39m\u001b[38;5;124m\"\u001b[39m] \u001b[38;5;241m=\u001b[39m kwds[\u001b[38;5;124m\"\u001b[39m\u001b[38;5;124mhas_index_names\u001b[39m\u001b[38;5;124m\"\u001b[39m]\n\u001b[1;32m   1441\u001b[0m \u001b[38;5;28mself\u001b[39m\u001b[38;5;241m.\u001b[39mhandles: IOHandles \u001b[38;5;241m|\u001b[39m \u001b[38;5;28;01mNone\u001b[39;00m \u001b[38;5;241m=\u001b[39m \u001b[38;5;28;01mNone\u001b[39;00m\n\u001b[0;32m-> 1442\u001b[0m \u001b[38;5;28mself\u001b[39m\u001b[38;5;241m.\u001b[39m_engine \u001b[38;5;241m=\u001b[39m \u001b[38;5;28;43mself\u001b[39;49m\u001b[38;5;241;43m.\u001b[39;49m\u001b[43m_make_engine\u001b[49m\u001b[43m(\u001b[49m\u001b[43mf\u001b[49m\u001b[43m,\u001b[49m\u001b[43m \u001b[49m\u001b[38;5;28;43mself\u001b[39;49m\u001b[38;5;241;43m.\u001b[39;49m\u001b[43mengine\u001b[49m\u001b[43m)\u001b[49m\n",
      "File \u001b[0;32m~/opt/anaconda3/lib/python3.9/site-packages/pandas/io/parsers/readers.py:1735\u001b[0m, in \u001b[0;36mTextFileReader._make_engine\u001b[0;34m(self, f, engine)\u001b[0m\n\u001b[1;32m   1733\u001b[0m     \u001b[38;5;28;01mif\u001b[39;00m \u001b[38;5;124m\"\u001b[39m\u001b[38;5;124mb\u001b[39m\u001b[38;5;124m\"\u001b[39m \u001b[38;5;129;01mnot\u001b[39;00m \u001b[38;5;129;01min\u001b[39;00m mode:\n\u001b[1;32m   1734\u001b[0m         mode \u001b[38;5;241m+\u001b[39m\u001b[38;5;241m=\u001b[39m \u001b[38;5;124m\"\u001b[39m\u001b[38;5;124mb\u001b[39m\u001b[38;5;124m\"\u001b[39m\n\u001b[0;32m-> 1735\u001b[0m \u001b[38;5;28mself\u001b[39m\u001b[38;5;241m.\u001b[39mhandles \u001b[38;5;241m=\u001b[39m \u001b[43mget_handle\u001b[49m\u001b[43m(\u001b[49m\n\u001b[1;32m   1736\u001b[0m \u001b[43m    \u001b[49m\u001b[43mf\u001b[49m\u001b[43m,\u001b[49m\n\u001b[1;32m   1737\u001b[0m \u001b[43m    \u001b[49m\u001b[43mmode\u001b[49m\u001b[43m,\u001b[49m\n\u001b[1;32m   1738\u001b[0m \u001b[43m    \u001b[49m\u001b[43mencoding\u001b[49m\u001b[38;5;241;43m=\u001b[39;49m\u001b[38;5;28;43mself\u001b[39;49m\u001b[38;5;241;43m.\u001b[39;49m\u001b[43moptions\u001b[49m\u001b[38;5;241;43m.\u001b[39;49m\u001b[43mget\u001b[49m\u001b[43m(\u001b[49m\u001b[38;5;124;43m\"\u001b[39;49m\u001b[38;5;124;43mencoding\u001b[39;49m\u001b[38;5;124;43m\"\u001b[39;49m\u001b[43m,\u001b[49m\u001b[43m \u001b[49m\u001b[38;5;28;43;01mNone\u001b[39;49;00m\u001b[43m)\u001b[49m\u001b[43m,\u001b[49m\n\u001b[1;32m   1739\u001b[0m \u001b[43m    \u001b[49m\u001b[43mcompression\u001b[49m\u001b[38;5;241;43m=\u001b[39;49m\u001b[38;5;28;43mself\u001b[39;49m\u001b[38;5;241;43m.\u001b[39;49m\u001b[43moptions\u001b[49m\u001b[38;5;241;43m.\u001b[39;49m\u001b[43mget\u001b[49m\u001b[43m(\u001b[49m\u001b[38;5;124;43m\"\u001b[39;49m\u001b[38;5;124;43mcompression\u001b[39;49m\u001b[38;5;124;43m\"\u001b[39;49m\u001b[43m,\u001b[49m\u001b[43m \u001b[49m\u001b[38;5;28;43;01mNone\u001b[39;49;00m\u001b[43m)\u001b[49m\u001b[43m,\u001b[49m\n\u001b[1;32m   1740\u001b[0m \u001b[43m    \u001b[49m\u001b[43mmemory_map\u001b[49m\u001b[38;5;241;43m=\u001b[39;49m\u001b[38;5;28;43mself\u001b[39;49m\u001b[38;5;241;43m.\u001b[39;49m\u001b[43moptions\u001b[49m\u001b[38;5;241;43m.\u001b[39;49m\u001b[43mget\u001b[49m\u001b[43m(\u001b[49m\u001b[38;5;124;43m\"\u001b[39;49m\u001b[38;5;124;43mmemory_map\u001b[39;49m\u001b[38;5;124;43m\"\u001b[39;49m\u001b[43m,\u001b[49m\u001b[43m \u001b[49m\u001b[38;5;28;43;01mFalse\u001b[39;49;00m\u001b[43m)\u001b[49m\u001b[43m,\u001b[49m\n\u001b[1;32m   1741\u001b[0m \u001b[43m    \u001b[49m\u001b[43mis_text\u001b[49m\u001b[38;5;241;43m=\u001b[39;49m\u001b[43mis_text\u001b[49m\u001b[43m,\u001b[49m\n\u001b[1;32m   1742\u001b[0m \u001b[43m    \u001b[49m\u001b[43merrors\u001b[49m\u001b[38;5;241;43m=\u001b[39;49m\u001b[38;5;28;43mself\u001b[39;49m\u001b[38;5;241;43m.\u001b[39;49m\u001b[43moptions\u001b[49m\u001b[38;5;241;43m.\u001b[39;49m\u001b[43mget\u001b[49m\u001b[43m(\u001b[49m\u001b[38;5;124;43m\"\u001b[39;49m\u001b[38;5;124;43mencoding_errors\u001b[39;49m\u001b[38;5;124;43m\"\u001b[39;49m\u001b[43m,\u001b[49m\u001b[43m \u001b[49m\u001b[38;5;124;43m\"\u001b[39;49m\u001b[38;5;124;43mstrict\u001b[39;49m\u001b[38;5;124;43m\"\u001b[39;49m\u001b[43m)\u001b[49m\u001b[43m,\u001b[49m\n\u001b[1;32m   1743\u001b[0m \u001b[43m    \u001b[49m\u001b[43mstorage_options\u001b[49m\u001b[38;5;241;43m=\u001b[39;49m\u001b[38;5;28;43mself\u001b[39;49m\u001b[38;5;241;43m.\u001b[39;49m\u001b[43moptions\u001b[49m\u001b[38;5;241;43m.\u001b[39;49m\u001b[43mget\u001b[49m\u001b[43m(\u001b[49m\u001b[38;5;124;43m\"\u001b[39;49m\u001b[38;5;124;43mstorage_options\u001b[39;49m\u001b[38;5;124;43m\"\u001b[39;49m\u001b[43m,\u001b[49m\u001b[43m \u001b[49m\u001b[38;5;28;43;01mNone\u001b[39;49;00m\u001b[43m)\u001b[49m\u001b[43m,\u001b[49m\n\u001b[1;32m   1744\u001b[0m \u001b[43m\u001b[49m\u001b[43m)\u001b[49m\n\u001b[1;32m   1745\u001b[0m \u001b[38;5;28;01massert\u001b[39;00m \u001b[38;5;28mself\u001b[39m\u001b[38;5;241m.\u001b[39mhandles \u001b[38;5;129;01mis\u001b[39;00m \u001b[38;5;129;01mnot\u001b[39;00m \u001b[38;5;28;01mNone\u001b[39;00m\n\u001b[1;32m   1746\u001b[0m f \u001b[38;5;241m=\u001b[39m \u001b[38;5;28mself\u001b[39m\u001b[38;5;241m.\u001b[39mhandles\u001b[38;5;241m.\u001b[39mhandle\n",
      "File \u001b[0;32m~/opt/anaconda3/lib/python3.9/site-packages/pandas/io/common.py:856\u001b[0m, in \u001b[0;36mget_handle\u001b[0;34m(path_or_buf, mode, encoding, compression, memory_map, is_text, errors, storage_options)\u001b[0m\n\u001b[1;32m    851\u001b[0m \u001b[38;5;28;01melif\u001b[39;00m \u001b[38;5;28misinstance\u001b[39m(handle, \u001b[38;5;28mstr\u001b[39m):\n\u001b[1;32m    852\u001b[0m     \u001b[38;5;66;03m# Check whether the filename is to be opened in binary mode.\u001b[39;00m\n\u001b[1;32m    853\u001b[0m     \u001b[38;5;66;03m# Binary mode does not support 'encoding' and 'newline'.\u001b[39;00m\n\u001b[1;32m    854\u001b[0m     \u001b[38;5;28;01mif\u001b[39;00m ioargs\u001b[38;5;241m.\u001b[39mencoding \u001b[38;5;129;01mand\u001b[39;00m \u001b[38;5;124m\"\u001b[39m\u001b[38;5;124mb\u001b[39m\u001b[38;5;124m\"\u001b[39m \u001b[38;5;129;01mnot\u001b[39;00m \u001b[38;5;129;01min\u001b[39;00m ioargs\u001b[38;5;241m.\u001b[39mmode:\n\u001b[1;32m    855\u001b[0m         \u001b[38;5;66;03m# Encoding\u001b[39;00m\n\u001b[0;32m--> 856\u001b[0m         handle \u001b[38;5;241m=\u001b[39m \u001b[38;5;28;43mopen\u001b[39;49m\u001b[43m(\u001b[49m\n\u001b[1;32m    857\u001b[0m \u001b[43m            \u001b[49m\u001b[43mhandle\u001b[49m\u001b[43m,\u001b[49m\n\u001b[1;32m    858\u001b[0m \u001b[43m            \u001b[49m\u001b[43mioargs\u001b[49m\u001b[38;5;241;43m.\u001b[39;49m\u001b[43mmode\u001b[49m\u001b[43m,\u001b[49m\n\u001b[1;32m    859\u001b[0m \u001b[43m            \u001b[49m\u001b[43mencoding\u001b[49m\u001b[38;5;241;43m=\u001b[39;49m\u001b[43mioargs\u001b[49m\u001b[38;5;241;43m.\u001b[39;49m\u001b[43mencoding\u001b[49m\u001b[43m,\u001b[49m\n\u001b[1;32m    860\u001b[0m \u001b[43m            \u001b[49m\u001b[43merrors\u001b[49m\u001b[38;5;241;43m=\u001b[39;49m\u001b[43merrors\u001b[49m\u001b[43m,\u001b[49m\n\u001b[1;32m    861\u001b[0m \u001b[43m            \u001b[49m\u001b[43mnewline\u001b[49m\u001b[38;5;241;43m=\u001b[39;49m\u001b[38;5;124;43m\"\u001b[39;49m\u001b[38;5;124;43m\"\u001b[39;49m\u001b[43m,\u001b[49m\n\u001b[1;32m    862\u001b[0m \u001b[43m        \u001b[49m\u001b[43m)\u001b[49m\n\u001b[1;32m    863\u001b[0m     \u001b[38;5;28;01melse\u001b[39;00m:\n\u001b[1;32m    864\u001b[0m         \u001b[38;5;66;03m# Binary mode\u001b[39;00m\n\u001b[1;32m    865\u001b[0m         handle \u001b[38;5;241m=\u001b[39m \u001b[38;5;28mopen\u001b[39m(handle, ioargs\u001b[38;5;241m.\u001b[39mmode)\n",
      "\u001b[0;31mFileNotFoundError\u001b[0m: [Errno 2] No such file or directory: 'Data/energy.csv'"
     ]
    }
   ],
   "source": [
    "import numpy as np\n",
    "from scipy import stats\n",
    "import os as os\n",
    "import pandas as pd\n",
    "#os.chdir('C:/Users/VICTOR/Documents/AnalyticsPython/Data')\n",
    "\n",
    "energy = pd.read_csv('Data/energy.csv')\n",
    "energy.head()\n"
   ]
  },
  {
   "cell_type": "code",
   "execution_count": 39,
   "metadata": {},
   "outputs": [
    {
     "data": {
      "text/plain": [
       "Ttest_indResult(statistic=-3.855503558973697, pvalue=0.0014106918447179043)"
      ]
     },
     "execution_count": 39,
     "metadata": {},
     "output_type": "execute_result"
    }
   ],
   "source": [
    "g1 = energy[energy.stature=='obese'].expend.values\n",
    "g2 = energy[energy.stature=='lean'].expend.values\n",
    "stats.ttest_ind(g2,g1,equal_var=False)"
   ]
  },
  {
   "cell_type": "code",
   "execution_count": 40,
   "metadata": {},
   "outputs": [
    {
     "data": {
      "text/plain": [
       "Ttest_indResult(statistic=-3.9455649161549835, pvalue=0.0007989982111700593)"
      ]
     },
     "execution_count": 40,
     "metadata": {},
     "output_type": "execute_result"
    }
   ],
   "source": [
    "stats.ttest_ind(g2,g1,equal_var=True)"
   ]
  },
  {
   "cell_type": "markdown",
   "metadata": {},
   "source": [
    "### Comparación de varianzas"
   ]
  },
  {
   "cell_type": "markdown",
   "metadata": {},
   "source": [
    "Aún cuando en `python` se puede hacer la prueba sobre dos muestras sin el supuesto de igualdad en las varianzas, podrías estar interesado en hacer una prueba exclusiva de este supuesto."
   ]
  },
  {
   "cell_type": "code",
   "execution_count": 41,
   "metadata": {},
   "outputs": [
    {
     "data": {
      "text/plain": [
       "(0.7844459792357035, 0.6797459853760682)"
      ]
     },
     "execution_count": 41,
     "metadata": {},
     "output_type": "execute_result"
    }
   ],
   "source": [
    "import statistics \n",
    "F = statistics.variance(g2)/statistics.variance(g1)\n",
    "df1 = len(g1) - 1\n",
    "df2 = len(g2) - 1\n",
    "alpha = 0.05 \n",
    "p_value = stats.f.cdf(F, df2, df1)\n",
    "(F,p_value*2)"
   ]
  },
  {
   "cell_type": "markdown",
   "metadata": {},
   "source": [
    "### Test de Wilcoxon para dos muestras"
   ]
  },
  {
   "cell_type": "code",
   "execution_count": 42,
   "metadata": {},
   "outputs": [],
   "source": [
    "u_statistic, pVal = stats.mannwhitneyu(g1, g2)"
   ]
  },
  {
   "cell_type": "code",
   "execution_count": 43,
   "metadata": {},
   "outputs": [
    {
     "data": {
      "text/plain": [
       "(105.0, 0.004243226771760098)"
      ]
     },
     "execution_count": 43,
     "metadata": {},
     "output_type": "execute_result"
    }
   ],
   "source": [
    "(u_statistic, pVal*2)"
   ]
  },
  {
   "cell_type": "markdown",
   "metadata": {},
   "source": [
    "## Correlación\n"
   ]
  },
  {
   "cell_type": "markdown",
   "metadata": {},
   "source": [
    "Se aborda a continuación medidas de correlación paramétricas y no paramétricas. El coeficiente de correlación es una medida de asociación que varía entre -1 y 1."
   ]
  },
  {
   "cell_type": "markdown",
   "metadata": {},
   "source": [
    "### Correlación de Pearson"
   ]
  },
  {
   "cell_type": "markdown",
   "metadata": {},
   "source": [
    "El coeficiente de correlación empírico es:\n",
    "\n",
    "$$ r = \\frac{\\sum (x_i-\\bar{x})(y_i-\\bar{y})}{\\sqrt{\\sum (x_i-\\bar{x})^2\\sum (y_i-\\bar{y})^2}} $$\n",
    "\n",
    "La función cor en `python` calcula la correlación entre dos o más vectores."
   ]
  },
  {
   "cell_type": "code",
   "execution_count": 44,
   "metadata": {},
   "outputs": [],
   "source": [
    "#import os as os\n",
    "#os.chdir('C:/Users/VICTOR/Documents/AnalyticsPython/Data')\n",
    "import pandas as pd\n",
    "datos = pd.read_csv('Data/company_sales_data.csv')"
   ]
  },
  {
   "cell_type": "code",
   "execution_count": 45,
   "metadata": {},
   "outputs": [
    {
     "data": {
      "text/html": [
       "<div>\n",
       "<style scoped>\n",
       "    .dataframe tbody tr th:only-of-type {\n",
       "        vertical-align: middle;\n",
       "    }\n",
       "\n",
       "    .dataframe tbody tr th {\n",
       "        vertical-align: top;\n",
       "    }\n",
       "\n",
       "    .dataframe thead th {\n",
       "        text-align: right;\n",
       "    }\n",
       "</style>\n",
       "<table border=\"1\" class=\"dataframe\">\n",
       "  <thead>\n",
       "    <tr style=\"text-align: right;\">\n",
       "      <th></th>\n",
       "      <th>month_number</th>\n",
       "      <th>facecream</th>\n",
       "      <th>facewash</th>\n",
       "      <th>toothpaste</th>\n",
       "      <th>bathingsoap</th>\n",
       "      <th>shampoo</th>\n",
       "      <th>moisturizer</th>\n",
       "      <th>total_units</th>\n",
       "      <th>total_profit</th>\n",
       "    </tr>\n",
       "  </thead>\n",
       "  <tbody>\n",
       "    <tr>\n",
       "      <th>0</th>\n",
       "      <td>1</td>\n",
       "      <td>2500</td>\n",
       "      <td>1500</td>\n",
       "      <td>5200</td>\n",
       "      <td>9200</td>\n",
       "      <td>1200</td>\n",
       "      <td>1500</td>\n",
       "      <td>21100</td>\n",
       "      <td>211000</td>\n",
       "    </tr>\n",
       "    <tr>\n",
       "      <th>1</th>\n",
       "      <td>2</td>\n",
       "      <td>2630</td>\n",
       "      <td>1200</td>\n",
       "      <td>5100</td>\n",
       "      <td>6100</td>\n",
       "      <td>2100</td>\n",
       "      <td>1200</td>\n",
       "      <td>18330</td>\n",
       "      <td>183300</td>\n",
       "    </tr>\n",
       "    <tr>\n",
       "      <th>2</th>\n",
       "      <td>3</td>\n",
       "      <td>2140</td>\n",
       "      <td>1340</td>\n",
       "      <td>4550</td>\n",
       "      <td>9550</td>\n",
       "      <td>3550</td>\n",
       "      <td>1340</td>\n",
       "      <td>22470</td>\n",
       "      <td>224700</td>\n",
       "    </tr>\n",
       "    <tr>\n",
       "      <th>3</th>\n",
       "      <td>4</td>\n",
       "      <td>3400</td>\n",
       "      <td>1130</td>\n",
       "      <td>5870</td>\n",
       "      <td>8870</td>\n",
       "      <td>1870</td>\n",
       "      <td>1130</td>\n",
       "      <td>22270</td>\n",
       "      <td>222700</td>\n",
       "    </tr>\n",
       "    <tr>\n",
       "      <th>4</th>\n",
       "      <td>5</td>\n",
       "      <td>3600</td>\n",
       "      <td>1740</td>\n",
       "      <td>4560</td>\n",
       "      <td>7760</td>\n",
       "      <td>1560</td>\n",
       "      <td>1740</td>\n",
       "      <td>20960</td>\n",
       "      <td>209600</td>\n",
       "    </tr>\n",
       "    <tr>\n",
       "      <th>5</th>\n",
       "      <td>6</td>\n",
       "      <td>2760</td>\n",
       "      <td>1555</td>\n",
       "      <td>4890</td>\n",
       "      <td>7490</td>\n",
       "      <td>1890</td>\n",
       "      <td>1555</td>\n",
       "      <td>20140</td>\n",
       "      <td>201400</td>\n",
       "    </tr>\n",
       "    <tr>\n",
       "      <th>6</th>\n",
       "      <td>7</td>\n",
       "      <td>2980</td>\n",
       "      <td>1120</td>\n",
       "      <td>4780</td>\n",
       "      <td>8980</td>\n",
       "      <td>1780</td>\n",
       "      <td>1120</td>\n",
       "      <td>29550</td>\n",
       "      <td>295500</td>\n",
       "    </tr>\n",
       "    <tr>\n",
       "      <th>7</th>\n",
       "      <td>8</td>\n",
       "      <td>3700</td>\n",
       "      <td>1400</td>\n",
       "      <td>5860</td>\n",
       "      <td>9960</td>\n",
       "      <td>2860</td>\n",
       "      <td>1400</td>\n",
       "      <td>36140</td>\n",
       "      <td>361400</td>\n",
       "    </tr>\n",
       "    <tr>\n",
       "      <th>8</th>\n",
       "      <td>9</td>\n",
       "      <td>3540</td>\n",
       "      <td>1780</td>\n",
       "      <td>6100</td>\n",
       "      <td>8100</td>\n",
       "      <td>2100</td>\n",
       "      <td>1780</td>\n",
       "      <td>23400</td>\n",
       "      <td>234000</td>\n",
       "    </tr>\n",
       "    <tr>\n",
       "      <th>9</th>\n",
       "      <td>10</td>\n",
       "      <td>1990</td>\n",
       "      <td>1890</td>\n",
       "      <td>8300</td>\n",
       "      <td>10300</td>\n",
       "      <td>2300</td>\n",
       "      <td>1890</td>\n",
       "      <td>26670</td>\n",
       "      <td>266700</td>\n",
       "    </tr>\n",
       "    <tr>\n",
       "      <th>10</th>\n",
       "      <td>11</td>\n",
       "      <td>2340</td>\n",
       "      <td>2100</td>\n",
       "      <td>7300</td>\n",
       "      <td>13300</td>\n",
       "      <td>2400</td>\n",
       "      <td>2100</td>\n",
       "      <td>41280</td>\n",
       "      <td>412800</td>\n",
       "    </tr>\n",
       "    <tr>\n",
       "      <th>11</th>\n",
       "      <td>12</td>\n",
       "      <td>2900</td>\n",
       "      <td>1760</td>\n",
       "      <td>7400</td>\n",
       "      <td>14400</td>\n",
       "      <td>1800</td>\n",
       "      <td>1760</td>\n",
       "      <td>30020</td>\n",
       "      <td>300200</td>\n",
       "    </tr>\n",
       "  </tbody>\n",
       "</table>\n",
       "</div>"
      ],
      "text/plain": [
       "    month_number  facecream  facewash  toothpaste  bathingsoap  shampoo  \\\n",
       "0              1       2500      1500        5200         9200     1200   \n",
       "1              2       2630      1200        5100         6100     2100   \n",
       "2              3       2140      1340        4550         9550     3550   \n",
       "3              4       3400      1130        5870         8870     1870   \n",
       "4              5       3600      1740        4560         7760     1560   \n",
       "5              6       2760      1555        4890         7490     1890   \n",
       "6              7       2980      1120        4780         8980     1780   \n",
       "7              8       3700      1400        5860         9960     2860   \n",
       "8              9       3540      1780        6100         8100     2100   \n",
       "9             10       1990      1890        8300        10300     2300   \n",
       "10            11       2340      2100        7300        13300     2400   \n",
       "11            12       2900      1760        7400        14400     1800   \n",
       "\n",
       "    moisturizer  total_units  total_profit  \n",
       "0          1500        21100        211000  \n",
       "1          1200        18330        183300  \n",
       "2          1340        22470        224700  \n",
       "3          1130        22270        222700  \n",
       "4          1740        20960        209600  \n",
       "5          1555        20140        201400  \n",
       "6          1120        29550        295500  \n",
       "7          1400        36140        361400  \n",
       "8          1780        23400        234000  \n",
       "9          1890        26670        266700  \n",
       "10         2100        41280        412800  \n",
       "11         1760        30020        300200  "
      ]
     },
     "execution_count": 45,
     "metadata": {},
     "output_type": "execute_result"
    }
   ],
   "source": [
    "datos"
   ]
  },
  {
   "cell_type": "code",
   "execution_count": 46,
   "metadata": {},
   "outputs": [
    {
     "data": {
      "application/javascript": [
       "/* Put everything inside the global mpl namespace */\n",
       "/* global mpl */\n",
       "window.mpl = {};\n",
       "\n",
       "mpl.get_websocket_type = function () {\n",
       "    if (typeof WebSocket !== 'undefined') {\n",
       "        return WebSocket;\n",
       "    } else if (typeof MozWebSocket !== 'undefined') {\n",
       "        return MozWebSocket;\n",
       "    } else {\n",
       "        alert(\n",
       "            'Your browser does not have WebSocket support. ' +\n",
       "                'Please try Chrome, Safari or Firefox ≥ 6. ' +\n",
       "                'Firefox 4 and 5 are also supported but you ' +\n",
       "                'have to enable WebSockets in about:config.'\n",
       "        );\n",
       "    }\n",
       "};\n",
       "\n",
       "mpl.figure = function (figure_id, websocket, ondownload, parent_element) {\n",
       "    this.id = figure_id;\n",
       "\n",
       "    this.ws = websocket;\n",
       "\n",
       "    this.supports_binary = this.ws.binaryType !== undefined;\n",
       "\n",
       "    if (!this.supports_binary) {\n",
       "        var warnings = document.getElementById('mpl-warnings');\n",
       "        if (warnings) {\n",
       "            warnings.style.display = 'block';\n",
       "            warnings.textContent =\n",
       "                'This browser does not support binary websocket messages. ' +\n",
       "                'Performance may be slow.';\n",
       "        }\n",
       "    }\n",
       "\n",
       "    this.imageObj = new Image();\n",
       "\n",
       "    this.context = undefined;\n",
       "    this.message = undefined;\n",
       "    this.canvas = undefined;\n",
       "    this.rubberband_canvas = undefined;\n",
       "    this.rubberband_context = undefined;\n",
       "    this.format_dropdown = undefined;\n",
       "\n",
       "    this.image_mode = 'full';\n",
       "\n",
       "    this.root = document.createElement('div');\n",
       "    this.root.setAttribute('style', 'display: inline-block');\n",
       "    this._root_extra_style(this.root);\n",
       "\n",
       "    parent_element.appendChild(this.root);\n",
       "\n",
       "    this._init_header(this);\n",
       "    this._init_canvas(this);\n",
       "    this._init_toolbar(this);\n",
       "\n",
       "    var fig = this;\n",
       "\n",
       "    this.waiting = false;\n",
       "\n",
       "    this.ws.onopen = function () {\n",
       "        fig.send_message('supports_binary', { value: fig.supports_binary });\n",
       "        fig.send_message('send_image_mode', {});\n",
       "        if (fig.ratio !== 1) {\n",
       "            fig.send_message('set_device_pixel_ratio', {\n",
       "                device_pixel_ratio: fig.ratio,\n",
       "            });\n",
       "        }\n",
       "        fig.send_message('refresh', {});\n",
       "    };\n",
       "\n",
       "    this.imageObj.onload = function () {\n",
       "        if (fig.image_mode === 'full') {\n",
       "            // Full images could contain transparency (where diff images\n",
       "            // almost always do), so we need to clear the canvas so that\n",
       "            // there is no ghosting.\n",
       "            fig.context.clearRect(0, 0, fig.canvas.width, fig.canvas.height);\n",
       "        }\n",
       "        fig.context.drawImage(fig.imageObj, 0, 0);\n",
       "    };\n",
       "\n",
       "    this.imageObj.onunload = function () {\n",
       "        fig.ws.close();\n",
       "    };\n",
       "\n",
       "    this.ws.onmessage = this._make_on_message_function(this);\n",
       "\n",
       "    this.ondownload = ondownload;\n",
       "};\n",
       "\n",
       "mpl.figure.prototype._init_header = function () {\n",
       "    var titlebar = document.createElement('div');\n",
       "    titlebar.classList =\n",
       "        'ui-dialog-titlebar ui-widget-header ui-corner-all ui-helper-clearfix';\n",
       "    var titletext = document.createElement('div');\n",
       "    titletext.classList = 'ui-dialog-title';\n",
       "    titletext.setAttribute(\n",
       "        'style',\n",
       "        'width: 100%; text-align: center; padding: 3px;'\n",
       "    );\n",
       "    titlebar.appendChild(titletext);\n",
       "    this.root.appendChild(titlebar);\n",
       "    this.header = titletext;\n",
       "};\n",
       "\n",
       "mpl.figure.prototype._canvas_extra_style = function (_canvas_div) {};\n",
       "\n",
       "mpl.figure.prototype._root_extra_style = function (_canvas_div) {};\n",
       "\n",
       "mpl.figure.prototype._init_canvas = function () {\n",
       "    var fig = this;\n",
       "\n",
       "    var canvas_div = (this.canvas_div = document.createElement('div'));\n",
       "    canvas_div.setAttribute(\n",
       "        'style',\n",
       "        'border: 1px solid #ddd;' +\n",
       "            'box-sizing: content-box;' +\n",
       "            'clear: both;' +\n",
       "            'min-height: 1px;' +\n",
       "            'min-width: 1px;' +\n",
       "            'outline: 0;' +\n",
       "            'overflow: hidden;' +\n",
       "            'position: relative;' +\n",
       "            'resize: both;'\n",
       "    );\n",
       "\n",
       "    function on_keyboard_event_closure(name) {\n",
       "        return function (event) {\n",
       "            return fig.key_event(event, name);\n",
       "        };\n",
       "    }\n",
       "\n",
       "    canvas_div.addEventListener(\n",
       "        'keydown',\n",
       "        on_keyboard_event_closure('key_press')\n",
       "    );\n",
       "    canvas_div.addEventListener(\n",
       "        'keyup',\n",
       "        on_keyboard_event_closure('key_release')\n",
       "    );\n",
       "\n",
       "    this._canvas_extra_style(canvas_div);\n",
       "    this.root.appendChild(canvas_div);\n",
       "\n",
       "    var canvas = (this.canvas = document.createElement('canvas'));\n",
       "    canvas.classList.add('mpl-canvas');\n",
       "    canvas.setAttribute('style', 'box-sizing: content-box;');\n",
       "\n",
       "    this.context = canvas.getContext('2d');\n",
       "\n",
       "    var backingStore =\n",
       "        this.context.backingStorePixelRatio ||\n",
       "        this.context.webkitBackingStorePixelRatio ||\n",
       "        this.context.mozBackingStorePixelRatio ||\n",
       "        this.context.msBackingStorePixelRatio ||\n",
       "        this.context.oBackingStorePixelRatio ||\n",
       "        this.context.backingStorePixelRatio ||\n",
       "        1;\n",
       "\n",
       "    this.ratio = (window.devicePixelRatio || 1) / backingStore;\n",
       "\n",
       "    var rubberband_canvas = (this.rubberband_canvas = document.createElement(\n",
       "        'canvas'\n",
       "    ));\n",
       "    rubberband_canvas.setAttribute(\n",
       "        'style',\n",
       "        'box-sizing: content-box; position: absolute; left: 0; top: 0; z-index: 1;'\n",
       "    );\n",
       "\n",
       "    // Apply a ponyfill if ResizeObserver is not implemented by browser.\n",
       "    if (this.ResizeObserver === undefined) {\n",
       "        if (window.ResizeObserver !== undefined) {\n",
       "            this.ResizeObserver = window.ResizeObserver;\n",
       "        } else {\n",
       "            var obs = _JSXTOOLS_RESIZE_OBSERVER({});\n",
       "            this.ResizeObserver = obs.ResizeObserver;\n",
       "        }\n",
       "    }\n",
       "\n",
       "    this.resizeObserverInstance = new this.ResizeObserver(function (entries) {\n",
       "        var nentries = entries.length;\n",
       "        for (var i = 0; i < nentries; i++) {\n",
       "            var entry = entries[i];\n",
       "            var width, height;\n",
       "            if (entry.contentBoxSize) {\n",
       "                if (entry.contentBoxSize instanceof Array) {\n",
       "                    // Chrome 84 implements new version of spec.\n",
       "                    width = entry.contentBoxSize[0].inlineSize;\n",
       "                    height = entry.contentBoxSize[0].blockSize;\n",
       "                } else {\n",
       "                    // Firefox implements old version of spec.\n",
       "                    width = entry.contentBoxSize.inlineSize;\n",
       "                    height = entry.contentBoxSize.blockSize;\n",
       "                }\n",
       "            } else {\n",
       "                // Chrome <84 implements even older version of spec.\n",
       "                width = entry.contentRect.width;\n",
       "                height = entry.contentRect.height;\n",
       "            }\n",
       "\n",
       "            // Keep the size of the canvas and rubber band canvas in sync with\n",
       "            // the canvas container.\n",
       "            if (entry.devicePixelContentBoxSize) {\n",
       "                // Chrome 84 implements new version of spec.\n",
       "                canvas.setAttribute(\n",
       "                    'width',\n",
       "                    entry.devicePixelContentBoxSize[0].inlineSize\n",
       "                );\n",
       "                canvas.setAttribute(\n",
       "                    'height',\n",
       "                    entry.devicePixelContentBoxSize[0].blockSize\n",
       "                );\n",
       "            } else {\n",
       "                canvas.setAttribute('width', width * fig.ratio);\n",
       "                canvas.setAttribute('height', height * fig.ratio);\n",
       "            }\n",
       "            canvas.setAttribute(\n",
       "                'style',\n",
       "                'width: ' + width + 'px; height: ' + height + 'px;'\n",
       "            );\n",
       "\n",
       "            rubberband_canvas.setAttribute('width', width);\n",
       "            rubberband_canvas.setAttribute('height', height);\n",
       "\n",
       "            // And update the size in Python. We ignore the initial 0/0 size\n",
       "            // that occurs as the element is placed into the DOM, which should\n",
       "            // otherwise not happen due to the minimum size styling.\n",
       "            if (fig.ws.readyState == 1 && width != 0 && height != 0) {\n",
       "                fig.request_resize(width, height);\n",
       "            }\n",
       "        }\n",
       "    });\n",
       "    this.resizeObserverInstance.observe(canvas_div);\n",
       "\n",
       "    function on_mouse_event_closure(name) {\n",
       "        return function (event) {\n",
       "            return fig.mouse_event(event, name);\n",
       "        };\n",
       "    }\n",
       "\n",
       "    rubberband_canvas.addEventListener(\n",
       "        'mousedown',\n",
       "        on_mouse_event_closure('button_press')\n",
       "    );\n",
       "    rubberband_canvas.addEventListener(\n",
       "        'mouseup',\n",
       "        on_mouse_event_closure('button_release')\n",
       "    );\n",
       "    rubberband_canvas.addEventListener(\n",
       "        'dblclick',\n",
       "        on_mouse_event_closure('dblclick')\n",
       "    );\n",
       "    // Throttle sequential mouse events to 1 every 20ms.\n",
       "    rubberband_canvas.addEventListener(\n",
       "        'mousemove',\n",
       "        on_mouse_event_closure('motion_notify')\n",
       "    );\n",
       "\n",
       "    rubberband_canvas.addEventListener(\n",
       "        'mouseenter',\n",
       "        on_mouse_event_closure('figure_enter')\n",
       "    );\n",
       "    rubberband_canvas.addEventListener(\n",
       "        'mouseleave',\n",
       "        on_mouse_event_closure('figure_leave')\n",
       "    );\n",
       "\n",
       "    canvas_div.addEventListener('wheel', function (event) {\n",
       "        if (event.deltaY < 0) {\n",
       "            event.step = 1;\n",
       "        } else {\n",
       "            event.step = -1;\n",
       "        }\n",
       "        on_mouse_event_closure('scroll')(event);\n",
       "    });\n",
       "\n",
       "    canvas_div.appendChild(canvas);\n",
       "    canvas_div.appendChild(rubberband_canvas);\n",
       "\n",
       "    this.rubberband_context = rubberband_canvas.getContext('2d');\n",
       "    this.rubberband_context.strokeStyle = '#000000';\n",
       "\n",
       "    this._resize_canvas = function (width, height, forward) {\n",
       "        if (forward) {\n",
       "            canvas_div.style.width = width + 'px';\n",
       "            canvas_div.style.height = height + 'px';\n",
       "        }\n",
       "    };\n",
       "\n",
       "    // Disable right mouse context menu.\n",
       "    this.rubberband_canvas.addEventListener('contextmenu', function (_e) {\n",
       "        event.preventDefault();\n",
       "        return false;\n",
       "    });\n",
       "\n",
       "    function set_focus() {\n",
       "        canvas.focus();\n",
       "        canvas_div.focus();\n",
       "    }\n",
       "\n",
       "    window.setTimeout(set_focus, 100);\n",
       "};\n",
       "\n",
       "mpl.figure.prototype._init_toolbar = function () {\n",
       "    var fig = this;\n",
       "\n",
       "    var toolbar = document.createElement('div');\n",
       "    toolbar.classList = 'mpl-toolbar';\n",
       "    this.root.appendChild(toolbar);\n",
       "\n",
       "    function on_click_closure(name) {\n",
       "        return function (_event) {\n",
       "            return fig.toolbar_button_onclick(name);\n",
       "        };\n",
       "    }\n",
       "\n",
       "    function on_mouseover_closure(tooltip) {\n",
       "        return function (event) {\n",
       "            if (!event.currentTarget.disabled) {\n",
       "                return fig.toolbar_button_onmouseover(tooltip);\n",
       "            }\n",
       "        };\n",
       "    }\n",
       "\n",
       "    fig.buttons = {};\n",
       "    var buttonGroup = document.createElement('div');\n",
       "    buttonGroup.classList = 'mpl-button-group';\n",
       "    for (var toolbar_ind in mpl.toolbar_items) {\n",
       "        var name = mpl.toolbar_items[toolbar_ind][0];\n",
       "        var tooltip = mpl.toolbar_items[toolbar_ind][1];\n",
       "        var image = mpl.toolbar_items[toolbar_ind][2];\n",
       "        var method_name = mpl.toolbar_items[toolbar_ind][3];\n",
       "\n",
       "        if (!name) {\n",
       "            /* Instead of a spacer, we start a new button group. */\n",
       "            if (buttonGroup.hasChildNodes()) {\n",
       "                toolbar.appendChild(buttonGroup);\n",
       "            }\n",
       "            buttonGroup = document.createElement('div');\n",
       "            buttonGroup.classList = 'mpl-button-group';\n",
       "            continue;\n",
       "        }\n",
       "\n",
       "        var button = (fig.buttons[name] = document.createElement('button'));\n",
       "        button.classList = 'mpl-widget';\n",
       "        button.setAttribute('role', 'button');\n",
       "        button.setAttribute('aria-disabled', 'false');\n",
       "        button.addEventListener('click', on_click_closure(method_name));\n",
       "        button.addEventListener('mouseover', on_mouseover_closure(tooltip));\n",
       "\n",
       "        var icon_img = document.createElement('img');\n",
       "        icon_img.src = '_images/' + image + '.png';\n",
       "        icon_img.srcset = '_images/' + image + '_large.png 2x';\n",
       "        icon_img.alt = tooltip;\n",
       "        button.appendChild(icon_img);\n",
       "\n",
       "        buttonGroup.appendChild(button);\n",
       "    }\n",
       "\n",
       "    if (buttonGroup.hasChildNodes()) {\n",
       "        toolbar.appendChild(buttonGroup);\n",
       "    }\n",
       "\n",
       "    var fmt_picker = document.createElement('select');\n",
       "    fmt_picker.classList = 'mpl-widget';\n",
       "    toolbar.appendChild(fmt_picker);\n",
       "    this.format_dropdown = fmt_picker;\n",
       "\n",
       "    for (var ind in mpl.extensions) {\n",
       "        var fmt = mpl.extensions[ind];\n",
       "        var option = document.createElement('option');\n",
       "        option.selected = fmt === mpl.default_extension;\n",
       "        option.innerHTML = fmt;\n",
       "        fmt_picker.appendChild(option);\n",
       "    }\n",
       "\n",
       "    var status_bar = document.createElement('span');\n",
       "    status_bar.classList = 'mpl-message';\n",
       "    toolbar.appendChild(status_bar);\n",
       "    this.message = status_bar;\n",
       "};\n",
       "\n",
       "mpl.figure.prototype.request_resize = function (x_pixels, y_pixels) {\n",
       "    // Request matplotlib to resize the figure. Matplotlib will then trigger a resize in the client,\n",
       "    // which will in turn request a refresh of the image.\n",
       "    this.send_message('resize', { width: x_pixels, height: y_pixels });\n",
       "};\n",
       "\n",
       "mpl.figure.prototype.send_message = function (type, properties) {\n",
       "    properties['type'] = type;\n",
       "    properties['figure_id'] = this.id;\n",
       "    this.ws.send(JSON.stringify(properties));\n",
       "};\n",
       "\n",
       "mpl.figure.prototype.send_draw_message = function () {\n",
       "    if (!this.waiting) {\n",
       "        this.waiting = true;\n",
       "        this.ws.send(JSON.stringify({ type: 'draw', figure_id: this.id }));\n",
       "    }\n",
       "};\n",
       "\n",
       "mpl.figure.prototype.handle_save = function (fig, _msg) {\n",
       "    var format_dropdown = fig.format_dropdown;\n",
       "    var format = format_dropdown.options[format_dropdown.selectedIndex].value;\n",
       "    fig.ondownload(fig, format);\n",
       "};\n",
       "\n",
       "mpl.figure.prototype.handle_resize = function (fig, msg) {\n",
       "    var size = msg['size'];\n",
       "    if (size[0] !== fig.canvas.width || size[1] !== fig.canvas.height) {\n",
       "        fig._resize_canvas(size[0], size[1], msg['forward']);\n",
       "        fig.send_message('refresh', {});\n",
       "    }\n",
       "};\n",
       "\n",
       "mpl.figure.prototype.handle_rubberband = function (fig, msg) {\n",
       "    var x0 = msg['x0'] / fig.ratio;\n",
       "    var y0 = (fig.canvas.height - msg['y0']) / fig.ratio;\n",
       "    var x1 = msg['x1'] / fig.ratio;\n",
       "    var y1 = (fig.canvas.height - msg['y1']) / fig.ratio;\n",
       "    x0 = Math.floor(x0) + 0.5;\n",
       "    y0 = Math.floor(y0) + 0.5;\n",
       "    x1 = Math.floor(x1) + 0.5;\n",
       "    y1 = Math.floor(y1) + 0.5;\n",
       "    var min_x = Math.min(x0, x1);\n",
       "    var min_y = Math.min(y0, y1);\n",
       "    var width = Math.abs(x1 - x0);\n",
       "    var height = Math.abs(y1 - y0);\n",
       "\n",
       "    fig.rubberband_context.clearRect(\n",
       "        0,\n",
       "        0,\n",
       "        fig.canvas.width / fig.ratio,\n",
       "        fig.canvas.height / fig.ratio\n",
       "    );\n",
       "\n",
       "    fig.rubberband_context.strokeRect(min_x, min_y, width, height);\n",
       "};\n",
       "\n",
       "mpl.figure.prototype.handle_figure_label = function (fig, msg) {\n",
       "    // Updates the figure title.\n",
       "    fig.header.textContent = msg['label'];\n",
       "};\n",
       "\n",
       "mpl.figure.prototype.handle_cursor = function (fig, msg) {\n",
       "    fig.rubberband_canvas.style.cursor = msg['cursor'];\n",
       "};\n",
       "\n",
       "mpl.figure.prototype.handle_message = function (fig, msg) {\n",
       "    fig.message.textContent = msg['message'];\n",
       "};\n",
       "\n",
       "mpl.figure.prototype.handle_draw = function (fig, _msg) {\n",
       "    // Request the server to send over a new figure.\n",
       "    fig.send_draw_message();\n",
       "};\n",
       "\n",
       "mpl.figure.prototype.handle_image_mode = function (fig, msg) {\n",
       "    fig.image_mode = msg['mode'];\n",
       "};\n",
       "\n",
       "mpl.figure.prototype.handle_history_buttons = function (fig, msg) {\n",
       "    for (var key in msg) {\n",
       "        if (!(key in fig.buttons)) {\n",
       "            continue;\n",
       "        }\n",
       "        fig.buttons[key].disabled = !msg[key];\n",
       "        fig.buttons[key].setAttribute('aria-disabled', !msg[key]);\n",
       "    }\n",
       "};\n",
       "\n",
       "mpl.figure.prototype.handle_navigate_mode = function (fig, msg) {\n",
       "    if (msg['mode'] === 'PAN') {\n",
       "        fig.buttons['Pan'].classList.add('active');\n",
       "        fig.buttons['Zoom'].classList.remove('active');\n",
       "    } else if (msg['mode'] === 'ZOOM') {\n",
       "        fig.buttons['Pan'].classList.remove('active');\n",
       "        fig.buttons['Zoom'].classList.add('active');\n",
       "    } else {\n",
       "        fig.buttons['Pan'].classList.remove('active');\n",
       "        fig.buttons['Zoom'].classList.remove('active');\n",
       "    }\n",
       "};\n",
       "\n",
       "mpl.figure.prototype.updated_canvas_event = function () {\n",
       "    // Called whenever the canvas gets updated.\n",
       "    this.send_message('ack', {});\n",
       "};\n",
       "\n",
       "// A function to construct a web socket function for onmessage handling.\n",
       "// Called in the figure constructor.\n",
       "mpl.figure.prototype._make_on_message_function = function (fig) {\n",
       "    return function socket_on_message(evt) {\n",
       "        if (evt.data instanceof Blob) {\n",
       "            var img = evt.data;\n",
       "            if (img.type !== 'image/png') {\n",
       "                /* FIXME: We get \"Resource interpreted as Image but\n",
       "                 * transferred with MIME type text/plain:\" errors on\n",
       "                 * Chrome.  But how to set the MIME type?  It doesn't seem\n",
       "                 * to be part of the websocket stream */\n",
       "                img.type = 'image/png';\n",
       "            }\n",
       "\n",
       "            /* Free the memory for the previous frames */\n",
       "            if (fig.imageObj.src) {\n",
       "                (window.URL || window.webkitURL).revokeObjectURL(\n",
       "                    fig.imageObj.src\n",
       "                );\n",
       "            }\n",
       "\n",
       "            fig.imageObj.src = (window.URL || window.webkitURL).createObjectURL(\n",
       "                img\n",
       "            );\n",
       "            fig.updated_canvas_event();\n",
       "            fig.waiting = false;\n",
       "            return;\n",
       "        } else if (\n",
       "            typeof evt.data === 'string' &&\n",
       "            evt.data.slice(0, 21) === 'data:image/png;base64'\n",
       "        ) {\n",
       "            fig.imageObj.src = evt.data;\n",
       "            fig.updated_canvas_event();\n",
       "            fig.waiting = false;\n",
       "            return;\n",
       "        }\n",
       "\n",
       "        var msg = JSON.parse(evt.data);\n",
       "        var msg_type = msg['type'];\n",
       "\n",
       "        // Call the  \"handle_{type}\" callback, which takes\n",
       "        // the figure and JSON message as its only arguments.\n",
       "        try {\n",
       "            var callback = fig['handle_' + msg_type];\n",
       "        } catch (e) {\n",
       "            console.log(\n",
       "                \"No handler for the '\" + msg_type + \"' message type: \",\n",
       "                msg\n",
       "            );\n",
       "            return;\n",
       "        }\n",
       "\n",
       "        if (callback) {\n",
       "            try {\n",
       "                // console.log(\"Handling '\" + msg_type + \"' message: \", msg);\n",
       "                callback(fig, msg);\n",
       "            } catch (e) {\n",
       "                console.log(\n",
       "                    \"Exception inside the 'handler_\" + msg_type + \"' callback:\",\n",
       "                    e,\n",
       "                    e.stack,\n",
       "                    msg\n",
       "                );\n",
       "            }\n",
       "        }\n",
       "    };\n",
       "};\n",
       "\n",
       "// from https://stackoverflow.com/questions/1114465/getting-mouse-location-in-canvas\n",
       "mpl.findpos = function (e) {\n",
       "    //this section is from http://www.quirksmode.org/js/events_properties.html\n",
       "    var targ;\n",
       "    if (!e) {\n",
       "        e = window.event;\n",
       "    }\n",
       "    if (e.target) {\n",
       "        targ = e.target;\n",
       "    } else if (e.srcElement) {\n",
       "        targ = e.srcElement;\n",
       "    }\n",
       "    if (targ.nodeType === 3) {\n",
       "        // defeat Safari bug\n",
       "        targ = targ.parentNode;\n",
       "    }\n",
       "\n",
       "    // pageX,Y are the mouse positions relative to the document\n",
       "    var boundingRect = targ.getBoundingClientRect();\n",
       "    var x = e.pageX - (boundingRect.left + document.body.scrollLeft);\n",
       "    var y = e.pageY - (boundingRect.top + document.body.scrollTop);\n",
       "\n",
       "    return { x: x, y: y };\n",
       "};\n",
       "\n",
       "/*\n",
       " * return a copy of an object with only non-object keys\n",
       " * we need this to avoid circular references\n",
       " * https://stackoverflow.com/a/24161582/3208463\n",
       " */\n",
       "function simpleKeys(original) {\n",
       "    return Object.keys(original).reduce(function (obj, key) {\n",
       "        if (typeof original[key] !== 'object') {\n",
       "            obj[key] = original[key];\n",
       "        }\n",
       "        return obj;\n",
       "    }, {});\n",
       "}\n",
       "\n",
       "mpl.figure.prototype.mouse_event = function (event, name) {\n",
       "    var canvas_pos = mpl.findpos(event);\n",
       "\n",
       "    if (name === 'button_press') {\n",
       "        this.canvas.focus();\n",
       "        this.canvas_div.focus();\n",
       "    }\n",
       "\n",
       "    var x = canvas_pos.x * this.ratio;\n",
       "    var y = canvas_pos.y * this.ratio;\n",
       "\n",
       "    this.send_message(name, {\n",
       "        x: x,\n",
       "        y: y,\n",
       "        button: event.button,\n",
       "        step: event.step,\n",
       "        guiEvent: simpleKeys(event),\n",
       "    });\n",
       "\n",
       "    /* This prevents the web browser from automatically changing to\n",
       "     * the text insertion cursor when the button is pressed.  We want\n",
       "     * to control all of the cursor setting manually through the\n",
       "     * 'cursor' event from matplotlib */\n",
       "    event.preventDefault();\n",
       "    return false;\n",
       "};\n",
       "\n",
       "mpl.figure.prototype._key_event_extra = function (_event, _name) {\n",
       "    // Handle any extra behaviour associated with a key event\n",
       "};\n",
       "\n",
       "mpl.figure.prototype.key_event = function (event, name) {\n",
       "    // Prevent repeat events\n",
       "    if (name === 'key_press') {\n",
       "        if (event.key === this._key) {\n",
       "            return;\n",
       "        } else {\n",
       "            this._key = event.key;\n",
       "        }\n",
       "    }\n",
       "    if (name === 'key_release') {\n",
       "        this._key = null;\n",
       "    }\n",
       "\n",
       "    var value = '';\n",
       "    if (event.ctrlKey && event.key !== 'Control') {\n",
       "        value += 'ctrl+';\n",
       "    }\n",
       "    else if (event.altKey && event.key !== 'Alt') {\n",
       "        value += 'alt+';\n",
       "    }\n",
       "    else if (event.shiftKey && event.key !== 'Shift') {\n",
       "        value += 'shift+';\n",
       "    }\n",
       "\n",
       "    value += 'k' + event.key;\n",
       "\n",
       "    this._key_event_extra(event, name);\n",
       "\n",
       "    this.send_message(name, { key: value, guiEvent: simpleKeys(event) });\n",
       "    return false;\n",
       "};\n",
       "\n",
       "mpl.figure.prototype.toolbar_button_onclick = function (name) {\n",
       "    if (name === 'download') {\n",
       "        this.handle_save(this, null);\n",
       "    } else {\n",
       "        this.send_message('toolbar_button', { name: name });\n",
       "    }\n",
       "};\n",
       "\n",
       "mpl.figure.prototype.toolbar_button_onmouseover = function (tooltip) {\n",
       "    this.message.textContent = tooltip;\n",
       "};\n",
       "\n",
       "///////////////// REMAINING CONTENT GENERATED BY embed_js.py /////////////////\n",
       "// prettier-ignore\n",
       "var _JSXTOOLS_RESIZE_OBSERVER=function(A){var t,i=new WeakMap,n=new WeakMap,a=new WeakMap,r=new WeakMap,o=new Set;function s(e){if(!(this instanceof s))throw new TypeError(\"Constructor requires 'new' operator\");i.set(this,e)}function h(){throw new TypeError(\"Function is not a constructor\")}function c(e,t,i,n){e=0 in arguments?Number(arguments[0]):0,t=1 in arguments?Number(arguments[1]):0,i=2 in arguments?Number(arguments[2]):0,n=3 in arguments?Number(arguments[3]):0,this.right=(this.x=this.left=e)+(this.width=i),this.bottom=(this.y=this.top=t)+(this.height=n),Object.freeze(this)}function d(){t=requestAnimationFrame(d);var s=new WeakMap,p=new Set;o.forEach((function(t){r.get(t).forEach((function(i){var r=t instanceof window.SVGElement,o=a.get(t),d=r?0:parseFloat(o.paddingTop),f=r?0:parseFloat(o.paddingRight),l=r?0:parseFloat(o.paddingBottom),u=r?0:parseFloat(o.paddingLeft),g=r?0:parseFloat(o.borderTopWidth),m=r?0:parseFloat(o.borderRightWidth),w=r?0:parseFloat(o.borderBottomWidth),b=u+f,F=d+l,v=(r?0:parseFloat(o.borderLeftWidth))+m,W=g+w,y=r?0:t.offsetHeight-W-t.clientHeight,E=r?0:t.offsetWidth-v-t.clientWidth,R=b+v,z=F+W,M=r?t.width:parseFloat(o.width)-R-E,O=r?t.height:parseFloat(o.height)-z-y;if(n.has(t)){var k=n.get(t);if(k[0]===M&&k[1]===O)return}n.set(t,[M,O]);var S=Object.create(h.prototype);S.target=t,S.contentRect=new c(u,d,M,O),s.has(i)||(s.set(i,[]),p.add(i)),s.get(i).push(S)}))})),p.forEach((function(e){i.get(e).call(e,s.get(e),e)}))}return s.prototype.observe=function(i){if(i instanceof window.Element){r.has(i)||(r.set(i,new Set),o.add(i),a.set(i,window.getComputedStyle(i)));var n=r.get(i);n.has(this)||n.add(this),cancelAnimationFrame(t),t=requestAnimationFrame(d)}},s.prototype.unobserve=function(i){if(i instanceof window.Element&&r.has(i)){var n=r.get(i);n.has(this)&&(n.delete(this),n.size||(r.delete(i),o.delete(i))),n.size||r.delete(i),o.size||cancelAnimationFrame(t)}},A.DOMRectReadOnly=c,A.ResizeObserver=s,A.ResizeObserverEntry=h,A}; // eslint-disable-line\n",
       "mpl.toolbar_items = [[\"Home\", \"Reset original view\", \"fa fa-home icon-home\", \"home\"], [\"Back\", \"Back to previous view\", \"fa fa-arrow-left icon-arrow-left\", \"back\"], [\"Forward\", \"Forward to next view\", \"fa fa-arrow-right icon-arrow-right\", \"forward\"], [\"\", \"\", \"\", \"\"], [\"Pan\", \"Left button pans, Right button zooms\\nx/y fixes axis, CTRL fixes aspect\", \"fa fa-arrows icon-move\", \"pan\"], [\"Zoom\", \"Zoom to rectangle\\nx/y fixes axis\", \"fa fa-square-o icon-check-empty\", \"zoom\"], [\"\", \"\", \"\", \"\"], [\"Download\", \"Download plot\", \"fa fa-floppy-o icon-save\", \"download\"]];\n",
       "\n",
       "mpl.extensions = [\"eps\", \"jpeg\", \"pgf\", \"pdf\", \"png\", \"ps\", \"raw\", \"svg\", \"tif\"];\n",
       "\n",
       "mpl.default_extension = \"png\";/* global mpl */\n",
       "\n",
       "var comm_websocket_adapter = function (comm) {\n",
       "    // Create a \"websocket\"-like object which calls the given IPython comm\n",
       "    // object with the appropriate methods. Currently this is a non binary\n",
       "    // socket, so there is still some room for performance tuning.\n",
       "    var ws = {};\n",
       "\n",
       "    ws.binaryType = comm.kernel.ws.binaryType;\n",
       "    ws.readyState = comm.kernel.ws.readyState;\n",
       "    function updateReadyState(_event) {\n",
       "        if (comm.kernel.ws) {\n",
       "            ws.readyState = comm.kernel.ws.readyState;\n",
       "        } else {\n",
       "            ws.readyState = 3; // Closed state.\n",
       "        }\n",
       "    }\n",
       "    comm.kernel.ws.addEventListener('open', updateReadyState);\n",
       "    comm.kernel.ws.addEventListener('close', updateReadyState);\n",
       "    comm.kernel.ws.addEventListener('error', updateReadyState);\n",
       "\n",
       "    ws.close = function () {\n",
       "        comm.close();\n",
       "    };\n",
       "    ws.send = function (m) {\n",
       "        //console.log('sending', m);\n",
       "        comm.send(m);\n",
       "    };\n",
       "    // Register the callback with on_msg.\n",
       "    comm.on_msg(function (msg) {\n",
       "        //console.log('receiving', msg['content']['data'], msg);\n",
       "        var data = msg['content']['data'];\n",
       "        if (data['blob'] !== undefined) {\n",
       "            data = {\n",
       "                data: new Blob(msg['buffers'], { type: data['blob'] }),\n",
       "            };\n",
       "        }\n",
       "        // Pass the mpl event to the overridden (by mpl) onmessage function.\n",
       "        ws.onmessage(data);\n",
       "    });\n",
       "    return ws;\n",
       "};\n",
       "\n",
       "mpl.mpl_figure_comm = function (comm, msg) {\n",
       "    // This is the function which gets called when the mpl process\n",
       "    // starts-up an IPython Comm through the \"matplotlib\" channel.\n",
       "\n",
       "    var id = msg.content.data.id;\n",
       "    // Get hold of the div created by the display call when the Comm\n",
       "    // socket was opened in Python.\n",
       "    var element = document.getElementById(id);\n",
       "    var ws_proxy = comm_websocket_adapter(comm);\n",
       "\n",
       "    function ondownload(figure, _format) {\n",
       "        window.open(figure.canvas.toDataURL());\n",
       "    }\n",
       "\n",
       "    var fig = new mpl.figure(id, ws_proxy, ondownload, element);\n",
       "\n",
       "    // Call onopen now - mpl needs it, as it is assuming we've passed it a real\n",
       "    // web socket which is closed, not our websocket->open comm proxy.\n",
       "    ws_proxy.onopen();\n",
       "\n",
       "    fig.parent_element = element;\n",
       "    fig.cell_info = mpl.find_output_cell(\"<div id='\" + id + \"'></div>\");\n",
       "    if (!fig.cell_info) {\n",
       "        console.error('Failed to find cell for figure', id, fig);\n",
       "        return;\n",
       "    }\n",
       "    fig.cell_info[0].output_area.element.on(\n",
       "        'cleared',\n",
       "        { fig: fig },\n",
       "        fig._remove_fig_handler\n",
       "    );\n",
       "};\n",
       "\n",
       "mpl.figure.prototype.handle_close = function (fig, msg) {\n",
       "    var width = fig.canvas.width / fig.ratio;\n",
       "    fig.cell_info[0].output_area.element.off(\n",
       "        'cleared',\n",
       "        fig._remove_fig_handler\n",
       "    );\n",
       "    fig.resizeObserverInstance.unobserve(fig.canvas_div);\n",
       "\n",
       "    // Update the output cell to use the data from the current canvas.\n",
       "    fig.push_to_output();\n",
       "    var dataURL = fig.canvas.toDataURL();\n",
       "    // Re-enable the keyboard manager in IPython - without this line, in FF,\n",
       "    // the notebook keyboard shortcuts fail.\n",
       "    IPython.keyboard_manager.enable();\n",
       "    fig.parent_element.innerHTML =\n",
       "        '<img src=\"' + dataURL + '\" width=\"' + width + '\">';\n",
       "    fig.close_ws(fig, msg);\n",
       "};\n",
       "\n",
       "mpl.figure.prototype.close_ws = function (fig, msg) {\n",
       "    fig.send_message('closing', msg);\n",
       "    // fig.ws.close()\n",
       "};\n",
       "\n",
       "mpl.figure.prototype.push_to_output = function (_remove_interactive) {\n",
       "    // Turn the data on the canvas into data in the output cell.\n",
       "    var width = this.canvas.width / this.ratio;\n",
       "    var dataURL = this.canvas.toDataURL();\n",
       "    this.cell_info[1]['text/html'] =\n",
       "        '<img src=\"' + dataURL + '\" width=\"' + width + '\">';\n",
       "};\n",
       "\n",
       "mpl.figure.prototype.updated_canvas_event = function () {\n",
       "    // Tell IPython that the notebook contents must change.\n",
       "    IPython.notebook.set_dirty(true);\n",
       "    this.send_message('ack', {});\n",
       "    var fig = this;\n",
       "    // Wait a second, then push the new image to the DOM so\n",
       "    // that it is saved nicely (might be nice to debounce this).\n",
       "    setTimeout(function () {\n",
       "        fig.push_to_output();\n",
       "    }, 1000);\n",
       "};\n",
       "\n",
       "mpl.figure.prototype._init_toolbar = function () {\n",
       "    var fig = this;\n",
       "\n",
       "    var toolbar = document.createElement('div');\n",
       "    toolbar.classList = 'btn-toolbar';\n",
       "    this.root.appendChild(toolbar);\n",
       "\n",
       "    function on_click_closure(name) {\n",
       "        return function (_event) {\n",
       "            return fig.toolbar_button_onclick(name);\n",
       "        };\n",
       "    }\n",
       "\n",
       "    function on_mouseover_closure(tooltip) {\n",
       "        return function (event) {\n",
       "            if (!event.currentTarget.disabled) {\n",
       "                return fig.toolbar_button_onmouseover(tooltip);\n",
       "            }\n",
       "        };\n",
       "    }\n",
       "\n",
       "    fig.buttons = {};\n",
       "    var buttonGroup = document.createElement('div');\n",
       "    buttonGroup.classList = 'btn-group';\n",
       "    var button;\n",
       "    for (var toolbar_ind in mpl.toolbar_items) {\n",
       "        var name = mpl.toolbar_items[toolbar_ind][0];\n",
       "        var tooltip = mpl.toolbar_items[toolbar_ind][1];\n",
       "        var image = mpl.toolbar_items[toolbar_ind][2];\n",
       "        var method_name = mpl.toolbar_items[toolbar_ind][3];\n",
       "\n",
       "        if (!name) {\n",
       "            /* Instead of a spacer, we start a new button group. */\n",
       "            if (buttonGroup.hasChildNodes()) {\n",
       "                toolbar.appendChild(buttonGroup);\n",
       "            }\n",
       "            buttonGroup = document.createElement('div');\n",
       "            buttonGroup.classList = 'btn-group';\n",
       "            continue;\n",
       "        }\n",
       "\n",
       "        button = fig.buttons[name] = document.createElement('button');\n",
       "        button.classList = 'btn btn-default';\n",
       "        button.href = '#';\n",
       "        button.title = name;\n",
       "        button.innerHTML = '<i class=\"fa ' + image + ' fa-lg\"></i>';\n",
       "        button.addEventListener('click', on_click_closure(method_name));\n",
       "        button.addEventListener('mouseover', on_mouseover_closure(tooltip));\n",
       "        buttonGroup.appendChild(button);\n",
       "    }\n",
       "\n",
       "    if (buttonGroup.hasChildNodes()) {\n",
       "        toolbar.appendChild(buttonGroup);\n",
       "    }\n",
       "\n",
       "    // Add the status bar.\n",
       "    var status_bar = document.createElement('span');\n",
       "    status_bar.classList = 'mpl-message pull-right';\n",
       "    toolbar.appendChild(status_bar);\n",
       "    this.message = status_bar;\n",
       "\n",
       "    // Add the close button to the window.\n",
       "    var buttongrp = document.createElement('div');\n",
       "    buttongrp.classList = 'btn-group inline pull-right';\n",
       "    button = document.createElement('button');\n",
       "    button.classList = 'btn btn-mini btn-primary';\n",
       "    button.href = '#';\n",
       "    button.title = 'Stop Interaction';\n",
       "    button.innerHTML = '<i class=\"fa fa-power-off icon-remove icon-large\"></i>';\n",
       "    button.addEventListener('click', function (_evt) {\n",
       "        fig.handle_close(fig, {});\n",
       "    });\n",
       "    button.addEventListener(\n",
       "        'mouseover',\n",
       "        on_mouseover_closure('Stop Interaction')\n",
       "    );\n",
       "    buttongrp.appendChild(button);\n",
       "    var titlebar = this.root.querySelector('.ui-dialog-titlebar');\n",
       "    titlebar.insertBefore(buttongrp, titlebar.firstChild);\n",
       "};\n",
       "\n",
       "mpl.figure.prototype._remove_fig_handler = function (event) {\n",
       "    var fig = event.data.fig;\n",
       "    if (event.target !== this) {\n",
       "        // Ignore bubbled events from children.\n",
       "        return;\n",
       "    }\n",
       "    fig.close_ws(fig, {});\n",
       "};\n",
       "\n",
       "mpl.figure.prototype._root_extra_style = function (el) {\n",
       "    el.style.boxSizing = 'content-box'; // override notebook setting of border-box.\n",
       "};\n",
       "\n",
       "mpl.figure.prototype._canvas_extra_style = function (el) {\n",
       "    // this is important to make the div 'focusable\n",
       "    el.setAttribute('tabindex', 0);\n",
       "    // reach out to IPython and tell the keyboard manager to turn it's self\n",
       "    // off when our div gets focus\n",
       "\n",
       "    // location in version 3\n",
       "    if (IPython.notebook.keyboard_manager) {\n",
       "        IPython.notebook.keyboard_manager.register_events(el);\n",
       "    } else {\n",
       "        // location in version 2\n",
       "        IPython.keyboard_manager.register_events(el);\n",
       "    }\n",
       "};\n",
       "\n",
       "mpl.figure.prototype._key_event_extra = function (event, _name) {\n",
       "    // Check for shift+enter\n",
       "    if (event.shiftKey && event.which === 13) {\n",
       "        this.canvas_div.blur();\n",
       "        // select the cell after this one\n",
       "        var index = IPython.notebook.find_cell_index(this.cell_info[0]);\n",
       "        IPython.notebook.select(index + 1);\n",
       "    }\n",
       "};\n",
       "\n",
       "mpl.figure.prototype.handle_save = function (fig, _msg) {\n",
       "    fig.ondownload(fig, null);\n",
       "};\n",
       "\n",
       "mpl.find_output_cell = function (html_output) {\n",
       "    // Return the cell and output element which can be found *uniquely* in the notebook.\n",
       "    // Note - this is a bit hacky, but it is done because the \"notebook_saving.Notebook\"\n",
       "    // IPython event is triggered only after the cells have been serialised, which for\n",
       "    // our purposes (turning an active figure into a static one), is too late.\n",
       "    var cells = IPython.notebook.get_cells();\n",
       "    var ncells = cells.length;\n",
       "    for (var i = 0; i < ncells; i++) {\n",
       "        var cell = cells[i];\n",
       "        if (cell.cell_type === 'code') {\n",
       "            for (var j = 0; j < cell.output_area.outputs.length; j++) {\n",
       "                var data = cell.output_area.outputs[j];\n",
       "                if (data.data) {\n",
       "                    // IPython >= 3 moved mimebundle to data attribute of output\n",
       "                    data = data.data;\n",
       "                }\n",
       "                if (data['text/html'] === html_output) {\n",
       "                    return [cell, data, j];\n",
       "                }\n",
       "            }\n",
       "        }\n",
       "    }\n",
       "};\n",
       "\n",
       "// Register the function which deals with the matplotlib target/channel.\n",
       "// The kernel may be null if the page has been refreshed.\n",
       "if (IPython.notebook.kernel !== null) {\n",
       "    IPython.notebook.kernel.comm_manager.register_target(\n",
       "        'matplotlib',\n",
       "        mpl.mpl_figure_comm\n",
       "    );\n",
       "}\n"
      ],
      "text/plain": [
       "<IPython.core.display.Javascript object>"
      ]
     },
     "metadata": {},
     "output_type": "display_data"
    },
    {
     "data": {
      "text/html": [
       "<img src=\"data:image/png;base64,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\" width=\"640\">"
      ],
      "text/plain": [
       "<IPython.core.display.HTML object>"
      ]
     },
     "metadata": {},
     "output_type": "display_data"
    },
    {
     "data": {
      "text/plain": [
       "<AxesSubplot:xlabel='shampoo', ylabel='bathingsoap'>"
      ]
     },
     "execution_count": 46,
     "metadata": {},
     "output_type": "execute_result"
    }
   ],
   "source": [
    "datos.plot('shampoo','bathingsoap',kind = 'scatter')"
   ]
  },
  {
   "cell_type": "code",
   "execution_count": 47,
   "metadata": {},
   "outputs": [
    {
     "data": {
      "text/plain": [
       "array([[1.        , 0.13756757],\n",
       "       [0.13756757, 1.        ]])"
      ]
     },
     "execution_count": 47,
     "metadata": {},
     "output_type": "execute_result"
    }
   ],
   "source": [
    "np.corrcoef(datos.shampoo,datos.bathingsoap)"
   ]
  },
  {
   "cell_type": "code",
   "execution_count": 48,
   "metadata": {},
   "outputs": [
    {
     "data": {
      "text/plain": [
       "(0.1375675688230804, 0.669853167345746)"
      ]
     },
     "execution_count": 48,
     "metadata": {},
     "output_type": "execute_result"
    }
   ],
   "source": [
    "stats.pearsonr(datos.shampoo,datos.bathingsoap) # devuelve la correlacion y el p-valor"
   ]
  },
  {
   "cell_type": "code",
   "execution_count": 49,
   "metadata": {},
   "outputs": [
    {
     "data": {
      "text/plain": [
       "SpearmanrResult(correlation=0.2907184843604137, pvalue=0.35929281767147814)"
      ]
     },
     "execution_count": 49,
     "metadata": {},
     "output_type": "execute_result"
    }
   ],
   "source": [
    "stats.spearmanr(datos.shampoo,datos.bathingsoap)   # Spearman's rho"
   ]
  },
  {
   "cell_type": "code",
   "execution_count": 50,
   "metadata": {},
   "outputs": [
    {
     "data": {
      "text/plain": [
       "KendalltauResult(correlation=0.10687334289668038, pvalue=0.6304167324095719)"
      ]
     },
     "execution_count": 50,
     "metadata": {},
     "output_type": "execute_result"
    }
   ],
   "source": [
    "stats.kendalltau(datos.shampoo,datos.bathingsoap)  # Kendall's tau"
   ]
  },
  {
   "cell_type": "markdown",
   "metadata": {},
   "source": [
    "Interpretación de la correlación:\n",
    "\n",
    "-  La correlación esta siempre entre -1 y 1. Lo primero que se interpreta es el signo\n",
    "-  Directamente proporcional si es positivo, si es negativo pasa lo contrario\n",
    "-  En segundo lugar se interpreta es la fuerza de la relación. Si esta más cerca de 1, significa que si aumenta una variable, la otra también.\n",
    "-  Números intermedios, reducen la fuerza de la relación."
   ]
  }
 ],
 "metadata": {
  "celltoolbar": "Raw Cell Format",
  "kernelspec": {
   "display_name": "Python 3 (ipykernel)",
   "language": "python",
   "name": "python3"
  },
  "language_info": {
   "codemirror_mode": {
    "name": "ipython",
    "version": 3
   },
   "file_extension": ".py",
   "mimetype": "text/x-python",
   "name": "python",
   "nbconvert_exporter": "python",
   "pygments_lexer": "ipython3",
   "version": "3.9.16"
  }
 },
 "nbformat": 4,
 "nbformat_minor": 4
}